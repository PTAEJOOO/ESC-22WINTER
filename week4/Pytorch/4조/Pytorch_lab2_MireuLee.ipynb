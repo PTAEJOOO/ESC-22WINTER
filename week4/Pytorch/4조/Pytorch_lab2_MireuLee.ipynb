{
  "nbformat": 4,
  "nbformat_minor": 0,
  "metadata": {
    "colab": {
      "name": "Pytorch_lab2_my_answer.ipynb",
      "provenance": [],
      "collapsed_sections": []
    },
    "kernelspec": {
      "name": "python3",
      "display_name": "Python 3"
    },
    "language_info": {
      "name": "python"
    },
    "accelerator": "GPU"
  },
  "cells": [
    {
      "cell_type": "markdown",
      "source": [
        "# 1. Image Classification using CNN"
      ],
      "metadata": {
        "id": "kvo34_mFjQOK"
      }
    },
    {
      "cell_type": "markdown",
      "source": [
        "(1) 모듈 불러오기"
      ],
      "metadata": {
        "id": "9vLV_g_0jdFr"
      }
    },
    {
      "cell_type": "code",
      "execution_count": null,
      "metadata": {
        "id": "Y1hsn_SijEUR"
      },
      "outputs": [],
      "source": [
        "import torch\n",
        "import torchvision\n",
        "import torchvision.transforms as transforms\n",
        "import torch.nn as nn\n",
        "import torch.nn.functional as F\n",
        "import torch.optim as optim\n",
        "\n",
        "import matplotlib.pyplot as plt\n",
        "import numpy as np"
      ]
    },
    {
      "cell_type": "markdown",
      "source": [
        "(2) 데이터셋 불러오기"
      ],
      "metadata": {
        "id": "OOnOarMmjjXi"
      }
    },
    {
      "cell_type": "code",
      "source": [
        "train_set = torchvision.datasets.CIFAR10(root='./data', train=True,\n",
        "                                        download=True, transform=transforms.ToTensor())\n",
        "train_loader = torch.utils.data.DataLoader(train_set, batch_size=8,\n",
        "                                          shuffle=True)\n",
        "\n",
        "test_set = torchvision.datasets.CIFAR10(root='./data', train=False,\n",
        "                                       download=True, transform=transforms.ToTensor())\n",
        "test_loader = torch.utils.data.DataLoader(test_set, batch_size=8,\n",
        "                                         shuffle=False)\n",
        "\n",
        "#데이터 클래스\n",
        "classes = ('plane', 'car', 'bird', 'cat',\n",
        "           'deer', 'dog', 'frog', 'horse', 'ship', 'truck')"
      ],
      "metadata": {
        "colab": {
          "base_uri": "https://localhost:8080/"
        },
        "id": "QVYVMQdWjcal",
        "outputId": "d05867d1-a671-4b1c-83d4-999199a348ea"
      },
      "execution_count": null,
      "outputs": [
        {
          "output_type": "stream",
          "name": "stdout",
          "text": [
            "Files already downloaded and verified\n",
            "Files already downloaded and verified\n"
          ]
        }
      ]
    },
    {
      "cell_type": "markdown",
      "source": [
        "(3) 데이터 확인"
      ],
      "metadata": {
        "id": "rB-UpxErjm6C"
      }
    },
    {
      "cell_type": "code",
      "source": [
        "# 이미지를 보여주기 위한 함수\n",
        "def img_show(img):\n",
        "    img = img / 2 + 0.5     # unnormalize\n",
        "    np_img = img.numpy()\n",
        "    plt.imshow(np.transpose(np_img, (1, 2, 0)))\n",
        "\n",
        "\n",
        "# 학습용 이미지를 무작위로 가져오기\n",
        "dataiter = iter(train_loader)\n",
        "images, labels = dataiter.next()\n",
        "\n",
        "# 라벨과 이미지 보여주기\n",
        "img_show(torchvision.utils.make_grid(images))\n",
        "print(' '.join('%5s' % classes[labels[j]] for j in range(8)))\n",
        "plt.show()"
      ],
      "metadata": {
        "colab": {
          "base_uri": "https://localhost:8080/",
          "height": 114
        },
        "id": "UIJUjf7Rjp38",
        "outputId": "c0df0a08-56c9-495b-f247-4822e2d03f33"
      },
      "execution_count": null,
      "outputs": [
        {
          "output_type": "stream",
          "name": "stdout",
          "text": [
            "plane horse  deer truck  deer  deer  frog   car\n"
          ]
        },
        {
          "output_type": "display_data",
          "data": {
            "image/png": "[encoded data removed]",
            "text/plain": [
              "<Figure size 432x288 with 1 Axes>"
            ]
          },
          "metadata": {
            "needs_background": "light"
          }
        }
      ]
    },
    {
      "cell_type": "markdown",
      "source": [
        "(4) CNN 모델 정의하기"
      ],
      "metadata": {
        "id": "bkZgFKXYjs_E"
      }
    },
    {
      "cell_type": "code",
      "source": [
        "# input data: 32 * 32 * 3\n",
        "# convolution size 계산: (input size - kernel size + 2*padding) / (stride) + 1\n",
        "# CNN 세션 자료 바로가기: https://github.com/YonseiESC/ESC-22WINTER/blob/main/week4/Convolutional%20Neural%20Networks_%20WEEK4.pdf\n",
        "\n",
        "# 모델 개요: (컨볼루션 - activation - 풀링) x 2 ->> (       ) ->> fc1 - relu1 - fc2 - relu2 - fc3\n",
        "\n",
        "class Net(nn.Module):\n",
        "    def __init__(self):\n",
        "        super(Net, self).__init__()\n",
        "        self.conv1 = nn.Conv2d(in_channels=3, out_channels=6, kernel_size = 5) # 28 * 28 * 6\n",
        "        self.pool = nn.MaxPool2d(kernel_size = 2, stride = 2, padding = 0) # 14 * 14 * 6 # 5 * 5 * 16\n",
        "        self.conv2 = nn.Conv2d(6, 16, 5) # 10 * 10 * 16\n",
        "        self.fc1 = nn.Linear(5 * 5 * 16, 120)\n",
        "        self.fc2 = nn.Linear(120, 84)\n",
        "        self.fc3 = nn.Linear(84, 10)\n",
        "\n",
        "    def forward(self, x):\n",
        "        x = self.pool(F.relu(self.conv1(x)))\n",
        "        x = self.pool(F.relu(self.conv2(x)))\n",
        "        x = x.view(-1, 16 * 5 * 5)\n",
        "        x = F.relu(self.fc1(x))\n",
        "        x = F.relu(self.fc2(x))\n",
        "        x = self.fc3(x)\n",
        "        return x\n",
        "\n",
        "net = Net()\n",
        "\n",
        "# https://pytorch.org/docs/stable/generated/torch.nn.Conv2d.html\n",
        "# https://pytorch.org/docs/1.9.1/generated/torch.nn.MaxPool2d.html\n",
        "# https://pytorch.org/docs/stable/generated/torch.nn.Linear.html\n",
        "# https://pytorch.org/docs/stable/generated/torch.Tensor.view.html"
      ],
      "metadata": {
        "id": "0UopRafAjriL"
      },
      "execution_count": null,
      "outputs": []
    },
    {
      "cell_type": "markdown",
      "source": [
        "(5) Loss와 Optimizer 정의하기"
      ],
      "metadata": {
        "id": "576vUE6kjxuS"
      }
    },
    {
      "cell_type": "code",
      "source": [
        "# SGD optimizer with learning rate = 0.01, momentum = 0.9\n",
        "# cross-entropy loss\n",
        "\n",
        "criterion = nn.CrossEntropyLoss()\n",
        "optimizer = torch.optim.SGD(net.parameters(), lr=0.01, momentum=0.9)\n",
        "\n",
        "# https://pytorch.org/docs/stable/generated/torch.nn.CrossEntropyLoss.html\n",
        "# https://pytorch.org/docs/stable/optim.html"
      ],
      "metadata": {
        "id": "sX6F56QPjwwe"
      },
      "execution_count": null,
      "outputs": []
    },
    {
      "cell_type": "markdown",
      "source": [
        "(6) 모델 학습"
      ],
      "metadata": {
        "id": "q0LyjULyj3U6"
      }
    },
    {
      "cell_type": "code",
      "source": [
        "for epoch in range(10):  # Iterate many times\n",
        "\n",
        "    running_loss = 0.0\n",
        "    for i, data in enumerate(train_loader, 0):\n",
        "        inputs, labels = data\n",
        "\n",
        "        # Set gradient as 0\n",
        "        optimizer.zero_grad()\n",
        "\n",
        "        # Forward + Backpropatation + Optimization\n",
        "        outputs = net(inputs)\n",
        "        loss = criterion(outputs, labels)\n",
        "\n",
        "        loss.backward()\n",
        "        optimizer.step()\n",
        "\n",
        "        # Print the training loss\n",
        "        running_loss += loss.item()\n",
        "        if i % 1000 == 999:    # print every 1000 mini-batches\n",
        "            print('[%d, %5d] loss: %.3f' %\n",
        "                  (epoch + 1, i + 1, running_loss / 1000))\n",
        "            running_loss = 0.0\n",
        "\n",
        "print('Finished Training')\n",
        "\n",
        "# 로컬 미니멈에 빠져버린걸까?"
      ],
      "metadata": {
        "colab": {
          "base_uri": "https://localhost:8080/"
        },
        "id": "GFMC9m4qj4pK",
        "outputId": "ffa26275-0c9e-4b20-b668-fae154a5e768"
      },
      "execution_count": null,
      "outputs": [
        {
          "output_type": "stream",
          "name": "stdout",
          "text": [
            "[1,  1000] loss: 2.212\n",
            "[1,  2000] loss: 1.949\n",
            "[1,  3000] loss: 1.845\n",
            "[1,  4000] loss: 1.768\n",
            "[1,  5000] loss: 1.737\n",
            "[1,  6000] loss: 1.739\n",
            "[2,  1000] loss: 1.740\n",
            "[2,  2000] loss: 1.691\n",
            "[2,  3000] loss: 1.726\n",
            "[2,  4000] loss: 1.708\n",
            "[2,  5000] loss: 1.698\n",
            "[2,  6000] loss: 1.682\n",
            "[3,  1000] loss: 1.641\n",
            "[3,  2000] loss: 1.655\n",
            "[3,  3000] loss: 1.680\n",
            "[3,  4000] loss: 1.651\n",
            "[3,  5000] loss: 1.694\n",
            "[3,  6000] loss: 1.668\n",
            "[4,  1000] loss: 1.643\n",
            "[4,  2000] loss: 1.669\n",
            "[4,  3000] loss: 1.672\n",
            "[4,  4000] loss: 1.660\n",
            "[4,  5000] loss: 1.684\n",
            "[4,  6000] loss: 1.690\n",
            "[5,  1000] loss: 1.639\n",
            "[5,  2000] loss: 1.638\n",
            "[5,  3000] loss: 1.672\n",
            "[5,  4000] loss: 1.648\n",
            "[5,  5000] loss: 1.659\n",
            "[5,  6000] loss: 1.665\n",
            "[6,  1000] loss: 1.646\n",
            "[6,  2000] loss: 1.646\n",
            "[6,  3000] loss: 1.838\n",
            "[6,  4000] loss: 1.721\n",
            "[6,  5000] loss: 1.673\n",
            "[6,  6000] loss: 1.699\n",
            "[7,  1000] loss: 1.661\n",
            "[7,  2000] loss: 1.638\n",
            "[7,  3000] loss: 1.697\n",
            "[7,  4000] loss: 1.705\n",
            "[7,  5000] loss: 1.727\n",
            "[7,  6000] loss: 1.686\n",
            "[8,  1000] loss: 1.720\n",
            "[8,  2000] loss: 1.685\n",
            "[8,  3000] loss: 1.641\n",
            "[8,  4000] loss: 1.695\n",
            "[8,  5000] loss: 1.734\n",
            "[8,  6000] loss: 1.737\n",
            "[9,  1000] loss: 1.695\n",
            "[9,  2000] loss: 1.683\n",
            "[9,  3000] loss: 1.683\n",
            "[9,  4000] loss: 1.678\n",
            "[9,  5000] loss: 1.689\n",
            "[9,  6000] loss: 1.725\n",
            "[10,  1000] loss: 1.674\n",
            "[10,  2000] loss: 1.710\n",
            "[10,  3000] loss: 1.655\n",
            "[10,  4000] loss: 1.691\n",
            "[10,  5000] loss: 1.771\n",
            "[10,  6000] loss: 1.797\n",
            "Finished Training\n"
          ]
        }
      ]
    },
    {
      "cell_type": "markdown",
      "source": [
        "(7) 모델 테스트"
      ],
      "metadata": {
        "id": "8NO1C5Kej8eW"
      }
    },
    {
      "cell_type": "code",
      "source": [
        "dataiter = iter(test_loader)\n",
        "images, labels = dataiter.next()\n",
        "\n",
        "# print images\n",
        "plt.show()\n",
        "img_show(torchvision.utils.make_grid(images))\n",
        "print('GroundTruth: ', ' '.join('%5s' % classes[labels[j]] for j in range(8)))\n",
        "\n",
        "outputs = net(images)\n",
        "_, predicted = torch.max(outputs, 1)\n",
        "print('Predicted: ', ' '.join('%5s' % classes[predicted[j]]\n",
        "                              for j in range(8)))"
      ],
      "metadata": {
        "colab": {
          "base_uri": "https://localhost:8080/",
          "height": 133
        },
        "id": "nHeDI_0Lj-Zu",
        "outputId": "606e93ab-1d1d-4411-cf23-05f179d9aa03"
      },
      "execution_count": null,
      "outputs": [
        {
          "output_type": "stream",
          "name": "stdout",
          "text": [
            "GroundTruth:    cat  ship  ship plane  frog  frog   car  frog\n",
            "Predicted:  truck  ship truck  ship   dog truck truck horse\n"
          ]
        },
        {
          "output_type": "display_data",
          "data": {
            "image/png": "[encoded data removed]",
            "text/plain": [
              "<Figure size 432x288 with 1 Axes>"
            ]
          },
          "metadata": {
            "needs_background": "light"
          }
        }
      ]
    },
    {
      "cell_type": "markdown",
      "source": [
        "(8) 정답률 계산"
      ],
      "metadata": {
        "id": "GvraaxcikAyI"
      }
    },
    {
      "cell_type": "code",
      "source": [
        "correct = 0\n",
        "total = 0\n",
        "with torch.no_grad():\n",
        "    for data in test_loader:\n",
        "        images, labels = data\n",
        "        outputs = net(images)\n",
        "        _, predicted = torch.max(outputs.data, 1)\n",
        "\n",
        "        total += labels.size(0)\n",
        "        correct += (predicted == labels).sum().item()\n",
        "\n",
        "        # Hint : Find the condition in classification problem\n",
        "\n",
        "print('네트워크의 정확도: {} %'.format(\n",
        "    100 * correct / total))\n",
        "\n",
        "# 성능도 처참,,,"
      ],
      "metadata": {
        "colab": {
          "base_uri": "https://localhost:8080/"
        },
        "id": "2SPdAzp8kCZi",
        "outputId": "cb8b08ff-2639-4edb-ed28-946745f93ae6"
      },
      "execution_count": null,
      "outputs": [
        {
          "output_type": "stream",
          "name": "stdout",
          "text": [
            "네트워크의 정확도: 37.55 %\n"
          ]
        }
      ]
    },
    {
      "cell_type": "markdown",
      "source": [
        "# 2. Time Series Data processing using RNN"
      ],
      "metadata": {
        "id": "hlFHomsjkn8i"
      }
    },
    {
      "cell_type": "markdown",
      "source": [
        "(1) 모듈 import"
      ],
      "metadata": {
        "id": "GFGMOnY8kzIw"
      }
    },
    {
      "cell_type": "code",
      "source": [
        "import numpy as np\n",
        "import pandas as pd\n",
        "from sklearn.preprocessing import MinMaxScaler\n",
        "import torch\n",
        "import torch.nn as nn\n",
        "import torch.optim as optim\n",
        "import matplotlib.pyplot as plt\n",
        "import seaborn as sns"
      ],
      "metadata": {
        "id": "3HIyxwr-k0hv"
      },
      "execution_count": null,
      "outputs": []
    },
    {
      "cell_type": "markdown",
      "source": [
        "(2) 데이터 로드"
      ],
      "metadata": {
        "id": "R0nW6zC1ktyZ"
      }
    },
    {
      "cell_type": "code",
      "source": [
        "# Import csv file from your drive.\n",
        "from google.colab import files \n",
        "uploaded = files.upload()\n",
        "\n",
        "# Make sure the your file name matches.\n",
        "import io \n",
        "df = pd.read_csv(io.BytesIO(uploaded['kospi.csv']))"
      ],
      "metadata": {
        "colab": {
          "resources": {
            "http://localhost:8080/nbextensions/google.colab/files.js": {
              "data": "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",
              "ok": true,
              "headers": [
                [
                  "content-type",
                  "application/javascript"
                ]
              ],
              "status": 200,
              "status_text": ""
            }
          },
          "base_uri": "https://localhost:8080/",
          "height": 77
        },
        "id": "1Mp9J5BIkwbw",
        "outputId": "f9fd6c0b-2f81-44ac-c6fb-b1dfa256b1a1"
      },
      "execution_count": null,
      "outputs": [
        {
          "output_type": "display_data",
          "data": {
            "text/html": [
              "\n",
              "     <input type=\"file\" id=\"files-fb662a88-a752-47a7-8f2f-9e1054bdd608\" name=\"files[]\" multiple disabled\n",
              "        style=\"border:none\" />\n",
              "     <output id=\"result-fb662a88-a752-47a7-8f2f-9e1054bdd608\">\n",
              "      Upload widget is only available when the cell has been executed in the\n",
              "      current browser session. Please rerun this cell to enable.\n",
              "      </output>\n",
              "      <script src=\"/nbextensions/google.colab/files.js\"></script> "
            ],
            "text/plain": [
              "<IPython.core.display.HTML object>"
            ]
          },
          "metadata": {}
        },
        {
          "output_type": "stream",
          "name": "stdout",
          "text": [
            "Saving kospi.csv to kospi (1).csv\n"
          ]
        }
      ]
    },
    {
      "cell_type": "markdown",
      "source": [
        "(3) 데이터 확인"
      ],
      "metadata": {
        "id": "_eQVj4N3k3Nn"
      }
    },
    {
      "cell_type": "code",
      "source": [
        "# Before preprocessing the dataframe, we need to check if there exists any missing value. \n",
        "df.isna().sum()"
      ],
      "metadata": {
        "id": "GktlD8mknZBq",
        "colab": {
          "base_uri": "https://localhost:8080/"
        },
        "outputId": "22633e13-deec-4294-efd0-41f124d4105d"
      },
      "execution_count": null,
      "outputs": [
        {
          "output_type": "execute_result",
          "data": {
            "text/plain": [
              "Date         0\n",
              "Open         0\n",
              "High         0\n",
              "Low          0\n",
              "Close        0\n",
              "Adj Close    0\n",
              "Volume       0\n",
              "dtype: int64"
            ]
          },
          "metadata": {},
          "execution_count": 12
        }
      ]
    },
    {
      "cell_type": "code",
      "source": [
        "df.head(10)\n",
        "\n",
        "# 우리의 목적: 5일간의 'Open','High','Low','Volume' 데이터를 가지고, 6일째의 'Close' 가격을 예측하기!!"
      ],
      "metadata": {
        "colab": {
          "base_uri": "https://localhost:8080/",
          "height": 363
        },
        "id": "iO6eEKeyk7d3",
        "outputId": "2c1e4477-78f3-49e3-852b-1b216847e462"
      },
      "execution_count": null,
      "outputs": [
        {
          "output_type": "execute_result",
          "data": {
            "text/html": [
              "\n",
              "  <div id=\"df-6265dfa2-37d3-45c8-a020-e0b951d7c7e7\">\n",
              "    <div class=\"colab-df-container\">\n",
              "      <div>\n",
              "<style scoped>\n",
              "    .dataframe tbody tr th:only-of-type {\n",
              "        vertical-align: middle;\n",
              "    }\n",
              "\n",
              "    .dataframe tbody tr th {\n",
              "        vertical-align: top;\n",
              "    }\n",
              "\n",
              "    .dataframe thead th {\n",
              "        text-align: right;\n",
              "    }\n",
              "</style>\n",
              "<table border=\"1\" class=\"dataframe\">\n",
              "  <thead>\n",
              "    <tr style=\"text-align: right;\">\n",
              "      <th></th>\n",
              "      <th>Date</th>\n",
              "      <th>Open</th>\n",
              "      <th>High</th>\n",
              "      <th>Low</th>\n",
              "      <th>Close</th>\n",
              "      <th>Adj Close</th>\n",
              "      <th>Volume</th>\n",
              "    </tr>\n",
              "  </thead>\n",
              "  <tbody>\n",
              "    <tr>\n",
              "      <th>0</th>\n",
              "      <td>2019-01-30</td>\n",
              "      <td>2183.489990</td>\n",
              "      <td>2206.199951</td>\n",
              "      <td>2177.879883</td>\n",
              "      <td>2206.199951</td>\n",
              "      <td>2206.199951</td>\n",
              "      <td>480400</td>\n",
              "    </tr>\n",
              "    <tr>\n",
              "      <th>1</th>\n",
              "      <td>2019-01-31</td>\n",
              "      <td>2222.879883</td>\n",
              "      <td>2222.879883</td>\n",
              "      <td>2201.219971</td>\n",
              "      <td>2204.850098</td>\n",
              "      <td>2204.850098</td>\n",
              "      <td>545200</td>\n",
              "    </tr>\n",
              "    <tr>\n",
              "      <th>2</th>\n",
              "      <td>2019-02-01</td>\n",
              "      <td>2211.929932</td>\n",
              "      <td>2218.780029</td>\n",
              "      <td>2201.409912</td>\n",
              "      <td>2203.459961</td>\n",
              "      <td>2203.459961</td>\n",
              "      <td>479400</td>\n",
              "    </tr>\n",
              "    <tr>\n",
              "      <th>3</th>\n",
              "      <td>2019-02-07</td>\n",
              "      <td>2215.770020</td>\n",
              "      <td>2215.790039</td>\n",
              "      <td>2196.770020</td>\n",
              "      <td>2203.419922</td>\n",
              "      <td>2203.419922</td>\n",
              "      <td>427800</td>\n",
              "    </tr>\n",
              "    <tr>\n",
              "      <th>4</th>\n",
              "      <td>2019-02-08</td>\n",
              "      <td>2192.010010</td>\n",
              "      <td>2192.479980</td>\n",
              "      <td>2171.959961</td>\n",
              "      <td>2177.050049</td>\n",
              "      <td>2177.050049</td>\n",
              "      <td>391000</td>\n",
              "    </tr>\n",
              "    <tr>\n",
              "      <th>5</th>\n",
              "      <td>2019-02-11</td>\n",
              "      <td>2180.540039</td>\n",
              "      <td>2181.580078</td>\n",
              "      <td>2167.360107</td>\n",
              "      <td>2180.729980</td>\n",
              "      <td>2180.729980</td>\n",
              "      <td>406100</td>\n",
              "    </tr>\n",
              "    <tr>\n",
              "      <th>6</th>\n",
              "      <td>2019-02-12</td>\n",
              "      <td>2182.709961</td>\n",
              "      <td>2195.050049</td>\n",
              "      <td>2178.590088</td>\n",
              "      <td>2190.469971</td>\n",
              "      <td>2190.469971</td>\n",
              "      <td>429900</td>\n",
              "    </tr>\n",
              "    <tr>\n",
              "      <th>7</th>\n",
              "      <td>2019-02-13</td>\n",
              "      <td>2200.000000</td>\n",
              "      <td>2203.709961</td>\n",
              "      <td>2194.750000</td>\n",
              "      <td>2201.479980</td>\n",
              "      <td>2201.479980</td>\n",
              "      <td>422000</td>\n",
              "    </tr>\n",
              "    <tr>\n",
              "      <th>8</th>\n",
              "      <td>2019-02-14</td>\n",
              "      <td>2195.919922</td>\n",
              "      <td>2225.850098</td>\n",
              "      <td>2186.090088</td>\n",
              "      <td>2225.850098</td>\n",
              "      <td>2225.850098</td>\n",
              "      <td>573400</td>\n",
              "    </tr>\n",
              "    <tr>\n",
              "      <th>9</th>\n",
              "      <td>2019-02-15</td>\n",
              "      <td>2210.939941</td>\n",
              "      <td>2210.939941</td>\n",
              "      <td>2187.709961</td>\n",
              "      <td>2196.090088</td>\n",
              "      <td>2196.090088</td>\n",
              "      <td>400600</td>\n",
              "    </tr>\n",
              "  </tbody>\n",
              "</table>\n",
              "</div>\n",
              "      <button class=\"colab-df-convert\" onclick=\"convertToInteractive('df-6265dfa2-37d3-45c8-a020-e0b951d7c7e7')\"\n",
              "              title=\"Convert this dataframe to an interactive table.\"\n",
              "              style=\"display:none;\">\n",
              "        \n",
              "  <svg xmlns=\"http://www.w3.org/2000/svg\" height=\"24px\"viewBox=\"0 0 24 24\"\n",
              "       width=\"24px\">\n",
              "    <path d=\"M0 0h24v24H0V0z\" fill=\"none\"/>\n",
              "    <path d=\"M18.56 5.44l.94 2.06.94-2.06 2.06-.94-2.06-.94-.94-2.06-.94 2.06-2.06.94zm-11 1L8.5 8.5l.94-2.06 2.06-.94-2.06-.94L8.5 2.5l-.94 2.06-2.06.94zm10 10l.94 2.06.94-2.06 2.06-.94-2.06-.94-.94-2.06-.94 2.06-2.06.94z\"/><path d=\"M17.41 7.96l-1.37-1.37c-.4-.4-.92-.59-1.43-.59-.52 0-1.04.2-1.43.59L10.3 9.45l-7.72 7.72c-.78.78-.78 2.05 0 2.83L4 21.41c.39.39.9.59 1.41.59.51 0 1.02-.2 1.41-.59l7.78-7.78 2.81-2.81c.8-.78.8-2.07 0-2.86zM5.41 20L4 18.59l7.72-7.72 1.47 1.35L5.41 20z\"/>\n",
              "  </svg>\n",
              "      </button>\n",
              "      \n",
              "  <style>\n",
              "    .colab-df-container {\n",
              "      display:flex;\n",
              "      flex-wrap:wrap;\n",
              "      gap: 12px;\n",
              "    }\n",
              "\n",
              "    .colab-df-convert {\n",
              "      background-color: #E8F0FE;\n",
              "      border: none;\n",
              "      border-radius: 50%;\n",
              "      cursor: pointer;\n",
              "      display: none;\n",
              "      fill: #1967D2;\n",
              "      height: 32px;\n",
              "      padding: 0 0 0 0;\n",
              "      width: 32px;\n",
              "    }\n",
              "\n",
              "    .colab-df-convert:hover {\n",
              "      background-color: #E2EBFA;\n",
              "      box-shadow: 0px 1px 2px rgba(60, 64, 67, 0.3), 0px 1px 3px 1px rgba(60, 64, 67, 0.15);\n",
              "      fill: #174EA6;\n",
              "    }\n",
              "\n",
              "    [theme=dark] .colab-df-convert {\n",
              "      background-color: #3B4455;\n",
              "      fill: #D2E3FC;\n",
              "    }\n",
              "\n",
              "    [theme=dark] .colab-df-convert:hover {\n",
              "      background-color: #434B5C;\n",
              "      box-shadow: 0px 1px 3px 1px rgba(0, 0, 0, 0.15);\n",
              "      filter: drop-shadow(0px 1px 2px rgba(0, 0, 0, 0.3));\n",
              "      fill: #FFFFFF;\n",
              "    }\n",
              "  </style>\n",
              "\n",
              "      <script>\n",
              "        const buttonEl =\n",
              "          document.querySelector('#df-6265dfa2-37d3-45c8-a020-e0b951d7c7e7 button.colab-df-convert');\n",
              "        buttonEl.style.display =\n",
              "          google.colab.kernel.accessAllowed ? 'block' : 'none';\n",
              "\n",
              "        async function convertToInteractive(key) {\n",
              "          const element = document.querySelector('#df-6265dfa2-37d3-45c8-a020-e0b951d7c7e7');\n",
              "          const dataTable =\n",
              "            await google.colab.kernel.invokeFunction('convertToInteractive',\n",
              "                                                     [key], {});\n",
              "          if (!dataTable) return;\n",
              "\n",
              "          const docLinkHtml = 'Like what you see? Visit the ' +\n",
              "            '<a target=\"_blank\" href=https://colab.research.google.com/notebooks/data_table.ipynb>data table notebook</a>'\n",
              "            + ' to learn more about interactive tables.';\n",
              "          element.innerHTML = '';\n",
              "          dataTable['output_type'] = 'display_data';\n",
              "          await google.colab.output.renderOutput(dataTable, element);\n",
              "          const docLink = document.createElement('div');\n",
              "          docLink.innerHTML = docLinkHtml;\n",
              "          element.appendChild(docLink);\n",
              "        }\n",
              "      </script>\n",
              "    </div>\n",
              "  </div>\n",
              "  "
            ],
            "text/plain": [
              "         Date         Open         High  ...        Close    Adj Close  Volume\n",
              "0  2019-01-30  2183.489990  2206.199951  ...  2206.199951  2206.199951  480400\n",
              "1  2019-01-31  2222.879883  2222.879883  ...  2204.850098  2204.850098  545200\n",
              "2  2019-02-01  2211.929932  2218.780029  ...  2203.459961  2203.459961  479400\n",
              "3  2019-02-07  2215.770020  2215.790039  ...  2203.419922  2203.419922  427800\n",
              "4  2019-02-08  2192.010010  2192.479980  ...  2177.050049  2177.050049  391000\n",
              "5  2019-02-11  2180.540039  2181.580078  ...  2180.729980  2180.729980  406100\n",
              "6  2019-02-12  2182.709961  2195.050049  ...  2190.469971  2190.469971  429900\n",
              "7  2019-02-13  2200.000000  2203.709961  ...  2201.479980  2201.479980  422000\n",
              "8  2019-02-14  2195.919922  2225.850098  ...  2225.850098  2225.850098  573400\n",
              "9  2019-02-15  2210.939941  2210.939941  ...  2196.090088  2196.090088  400600\n",
              "\n",
              "[10 rows x 7 columns]"
            ]
          },
          "metadata": {},
          "execution_count": 13
        }
      ]
    },
    {
      "cell_type": "markdown",
      "source": [
        "(4) 데이터 전처리"
      ],
      "metadata": {
        "id": "Bmi3qCdVlJF1"
      }
    },
    {
      "cell_type": "code",
      "source": [
        "scaler = MinMaxScaler()\n",
        "df[['Open','High','Low','Close','Volume']] = scaler.fit_transform(df[['Open','High','Low','Close','Volume']])\n",
        "\n",
        "X = df[['Open','High','Low','Volume']].values  # input feature\n",
        "y = df['Close'].values # output \n",
        "\n",
        "def seq_dataset(x, y, seq_length):\n",
        "  x_seq = []\n",
        "  y_seq = []\n",
        "  for i in range(len(x) - seq_length):\n",
        "    x_seq.append(x[i:i+seq_length])\n",
        "    y_seq.append(y[i+seq_length])\n",
        "\n",
        "  return torch.FloatTensor(x_seq), torch.FloatTensor(y_seq).view(-1,1)\n",
        "  # We need to convert the lists to Pytorch tensor.\n",
        "  # Convert the dimension of y to be two-dimensional, since we will use MSELoss, which deals with two-dimensional target.\n",
        "  # https://pytorch.org/docs/stable/tensors.html \n",
        "  # https://pytorch.org/docs/stable/generated/torch.Tensor.view.html\n",
        "\n",
        "split = 300\n",
        "seq_length = 5\n",
        "\n",
        "# Split dat for train-test.\n",
        "x_seq, y_seq = seq_dataset(X, y, seq_length)\n",
        "x_train_seq = x_seq[:split]\n",
        "y_train_seq = y_seq[:split]\n",
        "x_test_seq = x_seq[split:]\n",
        "y_test_seq = y_seq[split:]\n",
        "\n",
        "print(x_train_seq.size(), y_train_seq.size())\n",
        "print(x_test_seq.size(), y_test_seq.size())"
      ],
      "metadata": {
        "colab": {
          "base_uri": "https://localhost:8080/"
        },
        "id": "5xFWXrLplKZc",
        "outputId": "94891581-6817-41ed-b5fc-f5c952b81213"
      },
      "execution_count": null,
      "outputs": [
        {
          "output_type": "stream",
          "name": "stdout",
          "text": [
            "torch.Size([300, 5, 4]) torch.Size([300, 1])\n",
            "torch.Size([126, 5, 4]) torch.Size([126, 1])\n"
          ]
        },
        {
          "output_type": "stream",
          "name": "stderr",
          "text": [
            "/usr/local/lib/python3.7/dist-packages/ipykernel_launcher.py:14: UserWarning: Creating a tensor from a list of numpy.ndarrays is extremely slow. Please consider converting the list to a single numpy.ndarray with numpy.array() before converting to a tensor. (Triggered internally at  ../torch/csrc/utils/tensor_new.cpp:201.)\n",
            "  \n"
          ]
        }
      ]
    },
    {
      "cell_type": "code",
      "source": [
        "## 데이터가 어떤식으로 가공된건지 확인해봅시다\n",
        "print(x_train_seq[0]) # 예측에 사용할 input data\n",
        "y_train_seq[0] # 예측하고자 하는 output data(target)"
      ],
      "metadata": {
        "colab": {
          "base_uri": "https://localhost:8080/"
        },
        "id": "Av2D1HmjNvQl",
        "outputId": "d3b21704-4a82-4bb2-bdd5-f40c8dbab788"
      },
      "execution_count": null,
      "outputs": [
        {
          "output_type": "stream",
          "name": "stdout",
          "text": [
            "tensor([[0.7229, 0.7324, 0.7455, 0.2421],\n",
            "        [0.7631, 0.7501, 0.7691, 0.2748],\n",
            "        [0.7519, 0.7457, 0.7693, 0.2416],\n",
            "        [0.7558, 0.7425, 0.7646, 0.2156],\n",
            "        [0.7316, 0.7178, 0.7395, 0.1971]])\n"
          ]
        },
        {
          "output_type": "execute_result",
          "data": {
            "text/plain": [
              "tensor([0.7334])"
            ]
          },
          "metadata": {},
          "execution_count": 16
        }
      ]
    },
    {
      "cell_type": "markdown",
      "source": [
        "(5) 모델 구성"
      ],
      "metadata": {
        "id": "gzEhrrWmljmC"
      }
    },
    {
      "cell_type": "code",
      "source": [
        "# Now, it's time for the real game, Neural Network Setting. We will emply LSTM model in this case.\n",
        "input_size = x_seq.size(2) # What is the number of input variables? # feature\n",
        "hidden_size = 8 \n",
        "num_layers = 2\n",
        "output_size = 1 # prediction 개수(종가)\n",
        "\n",
        "class Net(nn.Module):\n",
        "  # The order of the four parameters below is related to the general structure of deep learning.\n",
        "  def __init__(self, input_size, hidden_size, output_size, num_layers):\n",
        "    super(Net, self).__init__()\n",
        "    self.rnn = torch.nn.LSTM(input_size = input_size, hidden_size = hidden_size, num_layers=num_layers, batch_first=True)\n",
        "    self.fc = torch.nn.Linear(hidden_size, output_size, bias=True)\n",
        "\n",
        "    # https://pytorch.org/docs/1.9.1/generated/torch.nn.LSTM.html\n",
        "    # https://pytorch.org/docs/stable/generated/torch.nn.Linear.html\n",
        "\n",
        "  def forward(self, x):\n",
        "    x, _status = self.rnn(x)\n",
        "    x = self.fc(x[:, -1])\n",
        "    return x\n",
        "\n",
        "LSTM = Net(input_size, hidden_size, output_size, 1)"
      ],
      "metadata": {
        "id": "zcs0MVgpllIb"
      },
      "execution_count": null,
      "outputs": []
    },
    {
      "cell_type": "markdown",
      "source": [
        "(6) Loss와 Optimizer 설정"
      ],
      "metadata": {
        "id": "xiWrROLUlpxu"
      }
    },
    {
      "cell_type": "code",
      "source": [
        "# Take MSE and Adam as loss and optimizer respectively (with learning rate 0.01)\n",
        "criterion = torch.nn.MSELoss()\n",
        "optimizer = optim.Adam(LSTM.parameters(), lr = 0.01)\n",
        "\n",
        "#https://pytorch.org/docs/stable/optim.html"
      ],
      "metadata": {
        "id": "mdDM1NUClsWh"
      },
      "execution_count": null,
      "outputs": []
    },
    {
      "cell_type": "markdown",
      "source": [
        "(7) 모델 학습 및 검증"
      ],
      "metadata": {
        "id": "nmAyqg70ltyQ"
      }
    },
    {
      "cell_type": "code",
      "source": [
        "#Set the number of iterations for optimization process.\n",
        "num_iteration = 500\n",
        "\n",
        "for i in range(num_iteration+1):\n",
        "  optimizer.zero_grad() # Why do we include this line?\n",
        "  outputs = LSTM(x_train_seq)\n",
        "  loss = criterion(outputs, y_train_seq) \n",
        "  loss.backward()\n",
        "  optimizer.step()\n",
        "  if i % 10 == 0:\n",
        "    print('epoch: %d loss: %.7f' %(i, loss.item()))\n",
        "\n",
        "# Compare the original and predicted price values via visualization. \n",
        "plt.plot(y_test_seq)\n",
        "plt.plot(LSTM(x_test_seq).data.numpy())\n",
        "plt.legend(['original', 'prediction'])\n",
        "plt.show()  "
      ],
      "metadata": {
        "colab": {
          "base_uri": "https://localhost:8080/",
          "height": 1000
        },
        "id": "zMdKPtvnlyLX",
        "outputId": "5f140b68-3b10-4a6d-9476-453139e45b73"
      },
      "execution_count": null,
      "outputs": [
        {
          "output_type": "stream",
          "name": "stdout",
          "text": [
            "epoch: 0 loss: 0.1330655\n",
            "epoch: 10 loss: 0.0274889\n",
            "epoch: 20 loss: 0.0148155\n",
            "epoch: 30 loss: 0.0109977\n",
            "epoch: 40 loss: 0.0094225\n",
            "epoch: 50 loss: 0.0073030\n",
            "epoch: 60 loss: 0.0046060\n",
            "epoch: 70 loss: 0.0021169\n",
            "epoch: 80 loss: 0.0017498\n",
            "epoch: 90 loss: 0.0015797\n",
            "epoch: 100 loss: 0.0015174\n",
            "epoch: 110 loss: 0.0014733\n",
            "epoch: 120 loss: 0.0014330\n",
            "epoch: 130 loss: 0.0014004\n",
            "epoch: 140 loss: 0.0013665\n",
            "epoch: 150 loss: 0.0013335\n",
            "epoch: 160 loss: 0.0013000\n",
            "epoch: 170 loss: 0.0012664\n",
            "epoch: 180 loss: 0.0012328\n",
            "epoch: 190 loss: 0.0011994\n",
            "epoch: 200 loss: 0.0011663\n",
            "epoch: 210 loss: 0.0011337\n",
            "epoch: 220 loss: 0.0011020\n",
            "epoch: 230 loss: 0.0010713\n",
            "epoch: 240 loss: 0.0010419\n",
            "epoch: 250 loss: 0.0010140\n",
            "epoch: 260 loss: 0.0009880\n",
            "epoch: 270 loss: 0.0009640\n",
            "epoch: 280 loss: 0.0009422\n",
            "epoch: 290 loss: 0.0009228\n",
            "epoch: 300 loss: 0.0009059\n",
            "epoch: 310 loss: 0.0008912\n",
            "epoch: 320 loss: 0.0008789\n",
            "epoch: 330 loss: 0.0008685\n",
            "epoch: 340 loss: 0.0008599\n",
            "epoch: 350 loss: 0.0008528\n",
            "epoch: 360 loss: 0.0008468\n",
            "epoch: 370 loss: 0.0008418\n",
            "epoch: 380 loss: 0.0008374\n",
            "epoch: 390 loss: 0.0008334\n",
            "epoch: 400 loss: 0.0008298\n",
            "epoch: 410 loss: 0.0008264\n",
            "epoch: 420 loss: 0.0008231\n",
            "epoch: 430 loss: 0.0008199\n",
            "epoch: 440 loss: 0.0008168\n",
            "epoch: 450 loss: 0.0008136\n",
            "epoch: 460 loss: 0.0008105\n",
            "epoch: 470 loss: 0.0008074\n",
            "epoch: 480 loss: 0.0008043\n",
            "epoch: 490 loss: 0.0008011\n",
            "epoch: 500 loss: 0.0007980\n"
          ]
        },
        {
          "output_type": "display_data",
          "data": {
            "image/png": "[encoded data removed]",
            "text/plain": [
              "<Figure size 432x288 with 1 Axes>"
            ]
          },
          "metadata": {
            "needs_background": "light"
          }
        }
      ]
    }
  ]
}