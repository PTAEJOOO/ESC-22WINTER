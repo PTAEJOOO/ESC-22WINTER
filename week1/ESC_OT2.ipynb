{
  "nbformat": 4,
  "nbformat_minor": 0,
  "metadata": {
    "colab": {
      "name": "ESC_OT2.ipynb",
      "provenance": []
    },
    "kernelspec": {
      "name": "python3",
      "display_name": "Python 3"
    },
    "language_info": {
      "name": "python"
    }
  },
  "cells": [
    {
      "cell_type": "code",
      "execution_count": 2,
      "metadata": {
        "colab": {
          "base_uri": "https://localhost:8080/"
        },
        "id": "ho6mUCI_kk3D",
        "outputId": "80675ec9-fc7c-43c1-c511-706b1425ec38"
      },
      "outputs": [
        {
          "output_type": "stream",
          "name": "stdout",
          "text": [
            "ESC 22 Winter\n"
          ]
        }
      ],
      "source": [
        "print(\"ESC 22 Winter\")"
      ]
    }
  ]
}