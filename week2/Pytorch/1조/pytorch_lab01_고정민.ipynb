{
 "cells": [
  {
   "cell_type": "code",
   "execution_count": 47,
   "metadata": {},
   "outputs": [
    {
     "name": "stdout",
     "output_type": "stream",
     "text": [
      "Requirement already satisfied: torch in c:\\users\\dayfl\\anaconda3\\lib\\site-packages (1.10.1)\n",
      "Requirement already satisfied: typing-extensions in c:\\users\\dayfl\\anaconda3\\lib\\site-packages (from torch) (3.7.4.3)\n",
      "Collecting torchvision\n",
      "  Downloading torchvision-0.11.2-cp38-cp38-win_amd64.whl (985 kB)\n",
      "Requirement already satisfied: pillow!=8.3.0,>=5.3.0 in c:\\users\\dayfl\\anaconda3\\lib\\site-packages (from torchvision) (8.2.0)\n",
      "Requirement already satisfied: numpy in c:\\users\\dayfl\\anaconda3\\lib\\site-packages (from torchvision) (1.18.5)\n",
      "Requirement already satisfied: torch==1.10.1 in c:\\users\\dayfl\\anaconda3\\lib\\site-packages (from torchvision) (1.10.1)\n",
      "Requirement already satisfied: typing-extensions in c:\\users\\dayfl\\anaconda3\\lib\\site-packages (from torch==1.10.1->torchvision) (3.7.4.3)\n",
      "Installing collected packages: torchvision\n",
      "Successfully installed torchvision-0.11.2\n"
     ]
    }
   ],
   "source": [
    "!pip3 install torch\n",
    "!pip3 install torchvision"
   ]
  },
  {
   "cell_type": "code",
   "execution_count": 48,
   "metadata": {},
   "outputs": [],
   "source": [
    "import torch\n",
    "import torch.nn as nn\n",
    "import torch.nn.functional as F\n",
    "import torch.optim as optim\n",
    "import torchvision.datasets as dsets\n",
    "import torchvision.transforms as transforms\n",
    "from torch.utils.data import DataLoader\n",
    "from torch.utils.data import TensorDataset"
   ]
  },
  {
   "cell_type": "code",
   "execution_count": 49,
   "metadata": {},
   "outputs": [],
   "source": [
    "from sklearn.metrics import accuracy_score\n",
    "from sklearn.metrics import f1_score\n",
    "from sklearn.metrics import roc_auc_score"
   ]
  },
  {
   "cell_type": "code",
   "execution_count": 50,
   "metadata": {},
   "outputs": [],
   "source": [
    "import numpy as np\n",
    "import pandas as pd\n",
    "from scipy.stats import norm\n",
    "import matplotlib.pyplot as plt\n",
    "import random\n",
    "import math"
   ]
  },
  {
   "cell_type": "markdown",
   "metadata": {
    "id": "qrdnwE-Ckd6z"
   },
   "source": [
    "# Q1 gradient descent로 simple linear regression 추정하기"
   ]
  },
  {
   "cell_type": "markdown",
   "metadata": {
    "id": "yV3I2XODkzpq"
   },
   "source": [
    "예제로 사용할 데이터 생성하기\n",
    "\n",
    "$ y_i = \\beta_0 + \\beta_1 \\times x_i + \\epsilon_i \\quad \\epsilon_i \\sim  iid N(0, 1)$ \n",
    "\n",
    "$ \\beta_0 = 5, \\beta_1 = 2$라는 모형을 따르는 데이터를 생성해준다. "
   ]
  },
  {
   "cell_type": "code",
   "execution_count": 51,
   "metadata": {
    "colab": {
     "base_uri": "https://localhost:8080/",
     "height": 265
    },
    "id": "DJuJTVrQmFel",
    "outputId": "dd10503e-bd27-41f6-8fce-26154b0c8e07"
   },
   "outputs": [
    {
     "data": {
      "image/png": "[encoded data removed]",
      "text/plain": [
       "<Figure size 432x288 with 1 Axes>"
      ]
     },
     "metadata": {
      "needs_background": "light"
     },
     "output_type": "display_data"
    }
   ],
   "source": [
    "x_train_np = np.linspace(0, 10, 100).reshape(-1, 1)\n",
    "y_train_np = 2 *  x_train_np + 5 + norm.rvs(0, 1, size = len(x_train_np)).reshape(-1, 1)\n",
    "\n",
    "plt.scatter(x_train_np, y_train_np)\n",
    "plt.show()"
   ]
  },
  {
   "cell_type": "markdown",
   "metadata": {
    "id": "FdABaEaimr-s"
   },
   "source": [
    "$ \\hat{y_i} = \\beta_0 + \\beta_1 \\times x_i $\n",
    "\n",
    "$ \\hat{y_i} = bias + weight \\times x_i $\n",
    "\n",
    "gradient descent를 사용해 bias와 weight를 학습해보자. \n",
    "\n",
    "1) 추정된 bias와 weight의 결과값은 얼마인가? 그래프를 그려 실제 회귀식에 가깝게 추정되었는지를 확인해보자. "
   ]
  },
  {
   "cell_type": "code",
   "execution_count": 52,
   "metadata": {
    "id": "lt6LWxJRmTls"
   },
   "outputs": [
    {
     "name": "stdout",
     "output_type": "stream",
     "text": [
      "Epoch    0/1000 W: 1.835, b: 0.298 Cost: 257.811615\n",
      "Epoch  100/1000 W: 2.421, b: 2.143 Cost: 2.570352\n",
      "Epoch  200/1000 W: 2.264, b: 3.188 Cost: 1.423078\n",
      "Epoch  300/1000 W: 2.169, b: 3.823 Cost: 0.999018\n",
      "Epoch  400/1000 W: 2.111, b: 4.209 Cost: 0.842275\n",
      "Epoch  500/1000 W: 2.075, b: 4.444 Cost: 0.784339\n",
      "Epoch  600/1000 W: 2.054, b: 4.587 Cost: 0.762924\n",
      "Epoch  700/1000 W: 2.041, b: 4.673 Cost: 0.755009\n",
      "Epoch  800/1000 W: 2.033, b: 4.726 Cost: 0.752083\n",
      "Epoch  900/1000 W: 2.028, b: 4.758 Cost: 0.751002\n",
      "Epoch 1000/1000 W: 2.025, b: 4.778 Cost: 0.750602\n"
     ]
    }
   ],
   "source": [
    "x_train = torch.FloatTensor(x_train_np)\n",
    "y_train = torch.FloatTensor(y_train_np)\n",
    "\n",
    "W = torch.zeros(1, requires_grad = True) # Weight\n",
    "b = torch.zeros(1, requires_grad = True) # bias\n",
    "\n",
    "optimizer = optim.SGD([W, b], lr = 0.01)\n",
    "\n",
    "n_epochs = 1000\n",
    "for epoch in range(n_epochs + 1):\n",
    "\n",
    "    # H(x) 계산\n",
    "    hypothesis = x_train * W + b\n",
    "  \n",
    "    # cost 계산: MSE\n",
    "    cost = torch.mean((hypothesis - y_train) ** 2)\n",
    "\n",
    "    # cost로 H(x) 개선\n",
    "    optimizer.zero_grad()\n",
    "    cost.backward()\n",
    "    optimizer.step()\n",
    "\n",
    "    if epoch % 100 == 0:\n",
    "        print('Epoch {:4d}/{} W: {:.3f}, b: {:.3f} Cost: {:.6f}'.format(\n",
    "            epoch, n_epochs, W.item(), b.item(), cost.item()\n",
    "        ))"
   ]
  },
  {
   "cell_type": "code",
   "execution_count": 53,
   "metadata": {
    "colab": {
     "base_uri": "https://localhost:8080/",
     "height": 284
    },
    "id": "CLKgfvzhaDu4",
    "outputId": "7c6df380-e78a-4df0-e514-1ed06fbab5f9"
   },
   "outputs": [
    {
     "data": {
      "text/plain": [
       "[<matplotlib.lines.Line2D at 0x132fe92e8e0>]"
      ]
     },
     "execution_count": 53,
     "metadata": {},
     "output_type": "execute_result"
    },
    {
     "data": {
      "image/png": "[encoded data removed]",
      "text/plain": [
       "<Figure size 432x288 with 1 Axes>"
      ]
     },
     "metadata": {
      "needs_background": "light"
     },
     "output_type": "display_data"
    }
   ],
   "source": [
    "y_pred = W * x_train + b # 추정한 회귀식\n",
    "y_real = 2 * x_train + 5 # 실제 회귀식\n",
    "\n",
    "plt.plot(x_train_np, y_pred.detach().numpy())\n",
    "plt.plot(x_train_np, y_real.detach().numpy())"
   ]
  },
  {
   "cell_type": "markdown",
   "metadata": {
    "id": "yNA2S1mmqEvc"
   },
   "source": [
    "2) learning rate를 0.03으로 조정해보자. 어떠한 문제가 발생하는가?\n",
    "\n",
    "답: cost(MSE)가 최소가 되는 점을 찾지 못하고 발산한다. "
   ]
  },
  {
   "cell_type": "code",
   "execution_count": 54,
   "metadata": {
    "id": "4gRKC_F_qcqM"
   },
   "outputs": [
    {
     "name": "stdout",
     "output_type": "stream",
     "text": [
      "Epoch    0/1000 W: 4.633, b: 1.050 Cost: 131.195572\n",
      "Epoch  100/1000 W: 434.068, b: 68.845 Cost: 5868496.000000\n",
      "Epoch  200/1000 W: 93165.000, b: 14012.600 Cost: 273038196736.000000\n",
      "Epoch  300/1000 W: 20095082.000, b: 3021503.500 Cost: 12703304228274176.000000\n",
      "Epoch  400/1000 W: 4334473728.000, b: 651732608.000 Cost: 591030460047920463872.000000\n",
      "Epoch  500/1000 W: 934936182784.000, b: 140577112064.000 Cost: 27497998764984580452646912.000000\n",
      "Epoch  600/1000 W: 201663495274496.000, b: 30322120982528.000 Cost: 1279356628939557855795383107584.000000\n",
      "Epoch  700/1000 W: 43498410866638848.000, b: 6540425590472704.000 Cost: 59522890460447825736796869956206592.000000\n",
      "Epoch  800/1000 W: 9382548335207907328.000, b: 1410761104488923136.000 Cost: inf\n",
      "Epoch  900/1000 W: 2023808038036872101888.000, b: 304300064047099805696.000 Cost: inf\n",
      "Epoch 1000/1000 W: 436531606038012963586048.000, b: 65637041732766815748096.000 Cost: inf\n"
     ]
    }
   ],
   "source": [
    "# 직접 W와 b를 정의하지 않고, nn.Module을 사용해 손쉽게 선형 모델을 생성할 수 있습니다. \n",
    "# 입출력값의 차원을 생각해 in_features와 out_features의 값을 적절하게 지정해주세요\n",
    "\n",
    "in_features = 1\n",
    "out_features = 1\n",
    "\n",
    "model = nn.Linear(in_features = in_features, out_features = out_features, bias = True)\n",
    "\n",
    "optimizer = optim.SGD(model.parameters(), lr = 0.03)\n",
    "\n",
    "nb_epochs = 1000\n",
    "for epoch in range(nb_epochs + 1):\n",
    "\n",
    "    # H(x) 계산\n",
    "    hypothesis = model(x_train)\n",
    "    \n",
    "    # cost 계산\n",
    "    cost = F.mse_loss(hypothesis, y_train)\n",
    "\n",
    "    # cost로 H(x) 개선\n",
    "    optimizer.zero_grad()\n",
    "    cost.backward()\n",
    "    optimizer.step()\n",
    "\n",
    "    # 100번마다 로그 출력\n",
    "    if epoch % 100 == 0:\n",
    "        params = list(model.parameters())\n",
    "        W = params[0].item()\n",
    "        b = params[1].item()\n",
    "        print('Epoch {:4d}/{} W: {:.3f}, b: {:.3f} Cost: {:.6f}'.format(\n",
    "            epoch, nb_epochs, W, b, cost.item()\n",
    "        ))"
   ]
  },
  {
   "cell_type": "markdown",
   "metadata": {
    "id": "eoLOBBP4tBgc"
   },
   "source": [
    "3) learning rate를 0.00000001로 조정해보자. 어떠한 문제가 발생하는가?\n",
    "\n",
    "답: cost가 최소가 되는 점을 찾기까지 시간이 오래걸린다. epoch수를 늘리면 찾을수도 있지만 비효율적이다. "
   ]
  },
  {
   "cell_type": "code",
   "execution_count": 55,
   "metadata": {
    "colab": {
     "base_uri": "https://localhost:8080/"
    },
    "id": "5L8OdKyqtNGq",
    "outputId": "532ff27f-e57a-4175-b1e6-5cc9332370bc"
   },
   "outputs": [
    {
     "name": "stdout",
     "output_type": "stream",
     "text": [
      "Epoch    0/1000 W: 0.000, b: 0.000 Cost: 257.811615\n",
      "Epoch  100/1000 W: 0.000, b: 0.000 Cost: 257.777039\n",
      "Epoch  200/1000 W: 0.000, b: 0.000 Cost: 257.742493\n",
      "Epoch  300/1000 W: 0.001, b: 0.000 Cost: 257.707977\n",
      "Epoch  400/1000 W: 0.001, b: 0.000 Cost: 257.673431\n",
      "Epoch  500/1000 W: 0.001, b: 0.000 Cost: 257.638916\n",
      "Epoch  600/1000 W: 0.001, b: 0.000 Cost: 257.604370\n",
      "Epoch  700/1000 W: 0.001, b: 0.000 Cost: 257.569794\n",
      "Epoch  800/1000 W: 0.001, b: 0.000 Cost: 257.535309\n",
      "Epoch  900/1000 W: 0.002, b: 0.000 Cost: 257.500854\n",
      "Epoch 1000/1000 W: 0.002, b: 0.000 Cost: 257.466309\n"
     ]
    }
   ],
   "source": [
    "W = torch.zeros(1, requires_grad = True) # Weight\n",
    "b = torch.zeros(1, requires_grad = True) # bias\n",
    "\n",
    "optimizer = optim.SGD([W, b], lr = 0.00000001)\n",
    "\n",
    "n_epochs = 1000\n",
    "for epoch in range(n_epochs + 1):\n",
    "\n",
    "    # H(x) 계산\n",
    "    hypothesis = x_train * W + b \n",
    "  \n",
    "    # cost 계산: MSE\n",
    "    cost = torch.mean((hypothesis - y_train)**2) \n",
    "\n",
    "    # cost로 H(x) 개선\n",
    "    optimizer.zero_grad()\n",
    "    cost.backward()\n",
    "    optimizer.step()\n",
    "\n",
    "    if epoch % 100 == 0:\n",
    "        print('Epoch {:4d}/{} W: {:.3f}, b: {:.3f} Cost: {:.6f}'.format(\n",
    "            epoch, nb_epochs, W.item(), b.item(), cost.item()\n",
    "        ))"
   ]
  },
  {
   "cell_type": "markdown",
   "metadata": {
    "id": "TwmayIyvdT5W"
   },
   "source": [
    "# Q2. train set and test set - MNIST"
   ]
  },
  {
   "cell_type": "markdown",
   "metadata": {
    "id": "qckEHyW-t_EQ"
   },
   "source": [
    "MNIST dataset을 불러온다. "
   ]
  },
  {
   "cell_type": "code",
   "execution_count": 56,
   "metadata": {
    "id": "u85modI7dZgP"
   },
   "outputs": [
    {
     "name": "stdout",
     "output_type": "stream",
     "text": [
      "Downloading http://yann.lecun.com/exdb/mnist/train-images-idx3-ubyte.gz\n",
      "Downloading http://yann.lecun.com/exdb/mnist/train-images-idx3-ubyte.gz to MNIST_data/MNIST\\raw\\train-images-idx3-ubyte.gz\n"
     ]
    },
    {
     "data": {
      "application/vnd.jupyter.widget-view+json": {
       "model_id": "eddc846583d0474f93aa4ef996727e74",
       "version_major": 2,
       "version_minor": 0
      },
      "text/plain": [
       "  0%|          | 0/9912422 [00:00<?, ?it/s]"
      ]
     },
     "metadata": {},
     "output_type": "display_data"
    },
    {
     "name": "stdout",
     "output_type": "stream",
     "text": [
      "Extracting MNIST_data/MNIST\\raw\\train-images-idx3-ubyte.gz to MNIST_data/MNIST\\raw\n",
      "\n",
      "Downloading http://yann.lecun.com/exdb/mnist/train-labels-idx1-ubyte.gz\n",
      "Downloading http://yann.lecun.com/exdb/mnist/train-labels-idx1-ubyte.gz to MNIST_data/MNIST\\raw\\train-labels-idx1-ubyte.gz\n"
     ]
    },
    {
     "data": {
      "application/vnd.jupyter.widget-view+json": {
       "model_id": "b1aebe72364f4c27a2ecc093c8735833",
       "version_major": 2,
       "version_minor": 0
      },
      "text/plain": [
       "  0%|          | 0/28881 [00:00<?, ?it/s]"
      ]
     },
     "metadata": {},
     "output_type": "display_data"
    },
    {
     "name": "stdout",
     "output_type": "stream",
     "text": [
      "Extracting MNIST_data/MNIST\\raw\\train-labels-idx1-ubyte.gz to MNIST_data/MNIST\\raw\n",
      "\n",
      "Downloading http://yann.lecun.com/exdb/mnist/t10k-images-idx3-ubyte.gz\n",
      "Downloading http://yann.lecun.com/exdb/mnist/t10k-images-idx3-ubyte.gz to MNIST_data/MNIST\\raw\\t10k-images-idx3-ubyte.gz\n"
     ]
    },
    {
     "data": {
      "application/vnd.jupyter.widget-view+json": {
       "model_id": "a06ea77c11b94cfc9e64017e96596ad4",
       "version_major": 2,
       "version_minor": 0
      },
      "text/plain": [
       "  0%|          | 0/1648877 [00:00<?, ?it/s]"
      ]
     },
     "metadata": {},
     "output_type": "display_data"
    },
    {
     "name": "stdout",
     "output_type": "stream",
     "text": [
      "Extracting MNIST_data/MNIST\\raw\\t10k-images-idx3-ubyte.gz to MNIST_data/MNIST\\raw\n",
      "\n",
      "Downloading http://yann.lecun.com/exdb/mnist/t10k-labels-idx1-ubyte.gz\n",
      "Downloading http://yann.lecun.com/exdb/mnist/t10k-labels-idx1-ubyte.gz to MNIST_data/MNIST\\raw\\t10k-labels-idx1-ubyte.gz\n"
     ]
    },
    {
     "data": {
      "application/vnd.jupyter.widget-view+json": {
       "model_id": "1497ba4236294595a2998f537c2b7d98",
       "version_major": 2,
       "version_minor": 0
      },
      "text/plain": [
       "  0%|          | 0/4542 [00:00<?, ?it/s]"
      ]
     },
     "metadata": {},
     "output_type": "display_data"
    },
    {
     "name": "stdout",
     "output_type": "stream",
     "text": [
      "Extracting MNIST_data/MNIST\\raw\\t10k-labels-idx1-ubyte.gz to MNIST_data/MNIST\\raw\n",
      "\n"
     ]
    }
   ],
   "source": [
    "mnist_train = dsets.MNIST(root='MNIST_data/',\n",
    "                          train=True,\n",
    "                          transform=transforms.ToTensor(),\n",
    "                          download=True)\n",
    "\n",
    "mnist_test = dsets.MNIST(root='MNIST_data/',\n",
    "                         train=False,\n",
    "                         transform=transforms.ToTensor(),\n",
    "                         download=True)\n",
    "\n",
    "data_loader = DataLoader(dataset = mnist_train,\n",
    "                         batch_size = 100, \n",
    "                         shuffle = True\n",
    "                         )"
   ]
  },
  {
   "cell_type": "markdown",
   "metadata": {
    "id": "GIuf-1TTuJkB"
   },
   "source": [
    "1) epoch 수를 15로 설정하여 trainset을 훈련시켜보자. \n",
    "\n",
    "그 후 훈련시킨 모델로 testset에 대한 평가를 진행해보자. "
   ]
  },
  {
   "cell_type": "code",
   "execution_count": 57,
   "metadata": {
    "id": "a16aNA_xfH12"
   },
   "outputs": [
    {
     "name": "stdout",
     "output_type": "stream",
     "text": [
      "Epoch: 0001 cost = 0.534457445\n",
      "Epoch: 0002 cost = 0.359277666\n",
      "Epoch: 0003 cost = 0.331188589\n",
      "Epoch: 0004 cost = 0.316422641\n",
      "Epoch: 0005 cost = 0.307145298\n",
      "Epoch: 0006 cost = 0.299921036\n",
      "Epoch: 0007 cost = 0.294877559\n",
      "Epoch: 0008 cost = 0.290942550\n",
      "Epoch: 0009 cost = 0.287527174\n",
      "Epoch: 0010 cost = 0.284435213\n",
      "Epoch: 0011 cost = 0.282112867\n",
      "Epoch: 0012 cost = 0.279822975\n",
      "Epoch: 0013 cost = 0.277859479\n",
      "Epoch: 0014 cost = 0.276023924\n",
      "Epoch: 0015 cost = 0.274406195\n"
     ]
    }
   ],
   "source": [
    "# train model with train sets\n",
    "\n",
    "# 입출력값의 차원을 생각해 in_features와 out_features의 값을 적절하게 지정해주세요\n",
    "\n",
    "in_features = 784\n",
    "out_features = 10\n",
    "linear = torch.nn.Linear(in_features = in_features, out_features=out_features, bias = True)\n",
    "\n",
    "criterion = torch.nn.CrossEntropyLoss()    # Softmax is internally computed.\n",
    "optimizer = torch.optim.SGD(linear.parameters(), lr=0.1)\n",
    "\n",
    "training_epochs = 15\n",
    "\n",
    "for epoch in range(training_epochs):\n",
    "    avg_cost = 0\n",
    "    total_batch = len(data_loader)\n",
    "\n",
    "    for X, Y in data_loader:\n",
    "        # reshape input image into [batch_size by 784]\n",
    "        # label is not one-hot encoded\n",
    "        X = X.view(-1, 28 * 28)\n",
    "        Y = Y\n",
    "\n",
    "        # H(x) 계산\n",
    "        hypothesis = linear(X)\n",
    "\n",
    "        # cost 계산\n",
    "        cost = criterion(hypothesis, Y)\n",
    "\n",
    "        #cost로 H(x) 개선\n",
    "        optimizer.zero_grad()\n",
    "        cost.backward()\n",
    "        optimizer.step()\n",
    "\n",
    "        avg_cost += cost / total_batch\n",
    "\n",
    "    print('Epoch:', '%04d' % (epoch + 1), 'cost =', '{:.9f}'.format(avg_cost))"
   ]
  },
  {
   "cell_type": "code",
   "execution_count": 58,
   "metadata": {
    "id": "piNVdn75gLKd"
   },
   "outputs": [
    {
     "name": "stdout",
     "output_type": "stream",
     "text": [
      "Accuracy: 0.8794000148773193\n",
      "cost: 0.27555379271507263\n"
     ]
    },
    {
     "name": "stderr",
     "output_type": "stream",
     "text": [
      "C:\\Users\\dayfl\\anaconda3\\lib\\site-packages\\torchvision\\datasets\\mnist.py:67: UserWarning: test_data has been renamed data\n",
      "  warnings.warn(\"test_data has been renamed data\")\n",
      "C:\\Users\\dayfl\\anaconda3\\lib\\site-packages\\torchvision\\datasets\\mnist.py:57: UserWarning: test_labels has been renamed targets\n",
      "  warnings.warn(\"test_labels has been renamed targets\")\n"
     ]
    }
   ],
   "source": [
    "# Test the model using test sets\n",
    "with torch.no_grad(): # torch.no_grad()를 사용하는 이유를 간단하게 설명해봅시다. \n",
    "\n",
    "    X_test = mnist_test.test_data.view(-1, 28 * 28).float()\n",
    "    Y_test = mnist_test.test_labels\n",
    "\n",
    "    prediction = linear(X_test)\n",
    "    correct_prediction = torch.argmax(prediction, 1) == Y_test\n",
    "    accuracy = correct_prediction.float().mean()\n",
    "    print('Accuracy:', accuracy.item())\n",
    "    print('cost:', cost.item())"
   ]
  },
  {
   "cell_type": "markdown",
   "metadata": {
    "id": "EkFfH5tsuY-G"
   },
   "source": [
    "2) epoch 수를 30으로 설정하여 trainset을 훈련시켜보자. \n",
    "\n",
    "그 후 훈련시킨 모델로 testset에 대한 평가를 진행해보자. \n",
    "\n",
    "어떠한 문제가 발생하는가?"
   ]
  },
  {
   "cell_type": "code",
   "execution_count": 59,
   "metadata": {
    "id": "rcrYS0wVhMlm"
   },
   "outputs": [
    {
     "name": "stdout",
     "output_type": "stream",
     "text": [
      "Epoch: 0001 cost = 0.533677936\n",
      "Epoch: 0006 cost = 0.299854279\n",
      "Epoch: 0011 cost = 0.282046825\n",
      "Epoch: 0016 cost = 0.273046046\n",
      "Epoch: 0021 cost = 0.267462671\n",
      "Epoch: 0026 cost = 0.263166219\n"
     ]
    }
   ],
   "source": [
    "linear = torch.nn.Linear(784, 10, bias = True)\n",
    "criterion = torch.nn.CrossEntropyLoss()   \n",
    "optimizer = torch.optim.SGD(linear.parameters(), lr=0.1)\n",
    "\n",
    "training_epochs = 30\n",
    "\n",
    "for epoch in range(training_epochs):\n",
    "    avg_cost = 0\n",
    "    total_batch = len(data_loader)\n",
    "\n",
    "    for X, Y in data_loader:\n",
    "        X = X.view(-1, 28 * 28)\n",
    "        Y = Y\n",
    "\n",
    "        # H(x) 계산\n",
    "        hypothesis = linear(X)\n",
    "\n",
    "        # cost 계산\n",
    "        cost = criterion(hypothesis, Y)\n",
    "\n",
    "        #cost로 H(x) 개선\n",
    "        optimizer.zero_grad()\n",
    "        cost.backward()\n",
    "        optimizer.step()\n",
    "\n",
    "        avg_cost += cost / total_batch\n",
    "\n",
    "    if epoch % 5 == 0:\n",
    "      print('Epoch:', '%04d' % (epoch + 1), 'cost =', '{:.9f}'.format(avg_cost))"
   ]
  },
  {
   "cell_type": "code",
   "execution_count": 60,
   "metadata": {
    "id": "_g-hNozohXlQ"
   },
   "outputs": [
    {
     "name": "stdout",
     "output_type": "stream",
     "text": [
      "Accuracy: 0.8659999966621399\n",
      "cost: 0.20540422201156616\n"
     ]
    }
   ],
   "source": [
    "# Test the model using test sets\n",
    "with torch.no_grad():\n",
    "    X_test = mnist_test.test_data.view(-1, 28 * 28).float()\n",
    "    Y_test = mnist_test.test_labels\n",
    "\n",
    "    prediction = linear(X_test)\n",
    "    correct_prediction = torch.argmax(prediction, 1) == Y_test\n",
    "    accuracy = correct_prediction.float().mean()\n",
    "    \n",
    "    print('Accuracy:', accuracy.item())\n",
    "    print('cost:', cost.item())"
   ]
  },
  {
   "cell_type": "markdown",
   "metadata": {
    "id": "y0mGZ5CpmCqK"
   },
   "source": [
    "# Q3. XOR problem with multilayer perceptron\n",
    "\n"
   ]
  },
  {
   "cell_type": "code",
   "execution_count": 77,
   "metadata": {
    "id": "v2HZ6xpRph0T"
   },
   "outputs": [
    {
     "name": "stdout",
     "output_type": "stream",
     "text": [
      "0 0.8171721696853638\n",
      "50 0.6932116150856018\n",
      "100 0.6931965351104736\n",
      "150 0.6931845545768738\n",
      "200 0.6931749582290649\n",
      "250 0.6931669116020203\n",
      "300 0.6931599378585815\n"
     ]
    }
   ],
   "source": [
    "X = torch.FloatTensor([[0, 0], [0, 1], [1, 0], [1, 1]])\n",
    "Y = torch.FloatTensor([[0], [1], [1], [0]])\n",
    "\n",
    "# 입출력값의 차원을 고려하여 아래 빈칸을 적절하게 채워주세요\n",
    "linear1 = torch.nn.Linear(2, 2, bias = True)\n",
    "linear2 = torch.nn.Linear(2, 1, bias = True)\n",
    "sigmoid = torch.nn.Sigmoid()\n",
    "\n",
    "# 딥러닝의 구조를 고려하여 multi perceptron 모델을 적절하게 생성하세요. \n",
    "# nn.Sequential 함수를 사용하세요\n",
    "model =  torch.nn.Sequential(linear1, sigmoid, linear2, sigmoid).to(device)\n",
    "\n",
    "# 이 예제에서 cross entropy 대신 BCE를 사용하는 이유를 간단하게 설명하세요\n",
    "criterion = torch.nn.BCELoss() \n",
    "optimizer = torch.optim.SGD(model.parameters(), lr = 1)\n",
    "\n",
    "for step in range(301):\n",
    "    hypothesis = model(X)\n",
    "    cost = criterion(hypothesis, Y)\n",
    "\n",
    "    optimizer.zero_grad()\n",
    "    cost.backward()\n",
    "    optimizer.step()\n",
    "    if step%50 == 0:\n",
    "        print(step, cost.item())"
   ]
  },
  {
   "cell_type": "markdown",
   "metadata": {
    "id": "jXzoKyGxv-aA"
   },
   "source": [
    "##Q4. Sine Function Approximation using the Legendre *Polynomial*"
   ]
  },
  {
   "cell_type": "markdown",
   "metadata": {
    "id": "6B_VVc1nwJnb"
   },
   "source": [
    "n = 3일때 르장드르 다항식은 다음과 같다. \\\n",
    "$ P_{3} = \\frac{1}{2} (5x^{3} -3x) $ \\\n",
    "이 함수를 사용하여, sine함수를 근사하도록 학습하려고 한다.\n"
   ]
  },
  {
   "cell_type": "markdown",
   "metadata": {
    "id": "pE8kJ2AlwJ0B"
   },
   "source": [
    "1) Forward, Backward 함수를 직접 작성하여보자."
   ]
  },
  {
   "cell_type": "code",
   "execution_count": 78,
   "metadata": {
    "id": "IxykoRYDwIgA"
   },
   "outputs": [],
   "source": [
    "# 이 클래스에서, forward, backward 함수가 하는 기능이 무엇인지 설명해주세요.\n",
    "\n",
    "class Legendre3Function(torch.autograd.Function):\n",
    "    @staticmethod\n",
    "    def forward(ctx, input):\n",
    "        ctx.save_for_backward(input)\n",
    "        return 0.5 * (5 * input ** 3 - 3 * input)\n",
    "\n",
    "    @staticmethod\n",
    "    def backward(ctx, grad_output):\n",
    "        input, = ctx.saved_tensors\n",
    "        return grad_output * 0.5 * (15 * input ** 2 - 3)\n",
    "        # Hint : Legendre Polynomial의 differential"
   ]
  },
  {
   "cell_type": "markdown",
   "metadata": {
    "id": "GrvjDnuxyGP9"
   },
   "source": [
    "2) 학습을 위한 parameter와 Data를 세팅해보자.\n",
    "   우리가 사용하려는 모델은 다음과 같다.\\\n",
    "   $ y = a + b * P_{3}(c + d * x) $"
   ]
  },
  {
   "cell_type": "code",
   "execution_count": 63,
   "metadata": {
    "id": "QeHfE-6tyFSx"
   },
   "outputs": [],
   "source": [
    "dtype = torch.float\n",
    "device = torch.device(\"cpu\")\n",
    "\n",
    "x = torch.linspace(-math.pi, math.pi, 2000, device=device, dtype=dtype)\n",
    "y = torch.sin(x) # Target function to approximate\n",
    "\n",
    "# Setting requires_grad=True indicates that we want to compute gradients with\n",
    "# respect to these Tensors during the backward pass.\n",
    "a = torch.full((), 0.0, device=device, dtype=dtype, requires_grad=True)\n",
    "b = torch.full((), -1.0, device=device, dtype=dtype, requires_grad=True)\n",
    "c = torch.full((), 0.0, device=device, dtype=dtype, requires_grad=True)\n",
    "d = torch.full((), 0.3, device=device, dtype=dtype, requires_grad=True)"
   ]
  },
  {
   "cell_type": "markdown",
   "metadata": {
    "id": "mKPsQrW5ywjW"
   },
   "source": [
    "3) 1)에서 정의한 forward, backward 함수를 사용하여,\n",
    "   딥러닝 학습 과정을 직접 작성해보자.\\\n",
    "   \\\n",
    "   Learning rate의 경우, 5e-2, 5e-4, 5e-6, 5e-8 중,\n",
    "   가장 적절한 Learning rate를 찾아보자. \\\n",
    "   적절한 learning rate보다 learning rate가 크거나 작을 때,\n",
    "   어떤 현상이 발생하는지 살펴보자."
   ]
  },
  {
   "cell_type": "code",
   "execution_count": 65,
   "metadata": {
    "id": "bivK3PSHyjyL"
   },
   "outputs": [
    {
     "name": "stdout",
     "output_type": "stream",
     "text": [
      "0 0.23089303076267242\n"
     ]
    },
    {
     "ename": "RuntimeError",
     "evalue": "element 0 of tensors does not require grad and does not have a grad_fn",
     "output_type": "error",
     "traceback": [
      "\u001b[1;31m---------------------------------------------------------------------------\u001b[0m",
      "\u001b[1;31mRuntimeError\u001b[0m                              Traceback (most recent call last)",
      "\u001b[1;32m<ipython-input-65-984f93095dd0>\u001b[0m in \u001b[0;36m<module>\u001b[1;34m\u001b[0m\n\u001b[0;32m     18\u001b[0m \u001b[1;33m\u001b[0m\u001b[0m\n\u001b[0;32m     19\u001b[0m     \u001b[1;31m# Use autograd to compute the backward pass.\u001b[0m\u001b[1;33m\u001b[0m\u001b[1;33m\u001b[0m\u001b[1;33m\u001b[0m\u001b[0m\n\u001b[1;32m---> 20\u001b[1;33m     \u001b[0mloss\u001b[0m\u001b[1;33m.\u001b[0m\u001b[0mbackward\u001b[0m\u001b[1;33m(\u001b[0m\u001b[1;33m)\u001b[0m\u001b[1;33m\u001b[0m\u001b[1;33m\u001b[0m\u001b[0m\n\u001b[0m\u001b[0;32m     21\u001b[0m \u001b[1;33m\u001b[0m\u001b[0m\n\u001b[0;32m     22\u001b[0m     \u001b[1;31m# Update weights using gradient descent\u001b[0m\u001b[1;33m\u001b[0m\u001b[1;33m\u001b[0m\u001b[1;33m\u001b[0m\u001b[0m\n",
      "\u001b[1;32m~\\anaconda3\\lib\\site-packages\\torch\\_tensor.py\u001b[0m in \u001b[0;36mbackward\u001b[1;34m(self, gradient, retain_graph, create_graph, inputs)\u001b[0m\n\u001b[0;32m    305\u001b[0m                 \u001b[0mcreate_graph\u001b[0m\u001b[1;33m=\u001b[0m\u001b[0mcreate_graph\u001b[0m\u001b[1;33m,\u001b[0m\u001b[1;33m\u001b[0m\u001b[1;33m\u001b[0m\u001b[0m\n\u001b[0;32m    306\u001b[0m                 inputs=inputs)\n\u001b[1;32m--> 307\u001b[1;33m         \u001b[0mtorch\u001b[0m\u001b[1;33m.\u001b[0m\u001b[0mautograd\u001b[0m\u001b[1;33m.\u001b[0m\u001b[0mbackward\u001b[0m\u001b[1;33m(\u001b[0m\u001b[0mself\u001b[0m\u001b[1;33m,\u001b[0m \u001b[0mgradient\u001b[0m\u001b[1;33m,\u001b[0m \u001b[0mretain_graph\u001b[0m\u001b[1;33m,\u001b[0m \u001b[0mcreate_graph\u001b[0m\u001b[1;33m,\u001b[0m \u001b[0minputs\u001b[0m\u001b[1;33m=\u001b[0m\u001b[0minputs\u001b[0m\u001b[1;33m)\u001b[0m\u001b[1;33m\u001b[0m\u001b[1;33m\u001b[0m\u001b[0m\n\u001b[0m\u001b[0;32m    308\u001b[0m \u001b[1;33m\u001b[0m\u001b[0m\n\u001b[0;32m    309\u001b[0m     \u001b[1;32mdef\u001b[0m \u001b[0mregister_hook\u001b[0m\u001b[1;33m(\u001b[0m\u001b[0mself\u001b[0m\u001b[1;33m,\u001b[0m \u001b[0mhook\u001b[0m\u001b[1;33m)\u001b[0m\u001b[1;33m:\u001b[0m\u001b[1;33m\u001b[0m\u001b[1;33m\u001b[0m\u001b[0m\n",
      "\u001b[1;32m~\\anaconda3\\lib\\site-packages\\torch\\autograd\\__init__.py\u001b[0m in \u001b[0;36mbackward\u001b[1;34m(tensors, grad_tensors, retain_graph, create_graph, grad_variables, inputs)\u001b[0m\n\u001b[0;32m    152\u001b[0m         \u001b[0mretain_graph\u001b[0m \u001b[1;33m=\u001b[0m \u001b[0mcreate_graph\u001b[0m\u001b[1;33m\u001b[0m\u001b[1;33m\u001b[0m\u001b[0m\n\u001b[0;32m    153\u001b[0m \u001b[1;33m\u001b[0m\u001b[0m\n\u001b[1;32m--> 154\u001b[1;33m     Variable._execution_engine.run_backward(\n\u001b[0m\u001b[0;32m    155\u001b[0m         \u001b[0mtensors\u001b[0m\u001b[1;33m,\u001b[0m \u001b[0mgrad_tensors_\u001b[0m\u001b[1;33m,\u001b[0m \u001b[0mretain_graph\u001b[0m\u001b[1;33m,\u001b[0m \u001b[0mcreate_graph\u001b[0m\u001b[1;33m,\u001b[0m \u001b[0minputs\u001b[0m\u001b[1;33m,\u001b[0m\u001b[1;33m\u001b[0m\u001b[1;33m\u001b[0m\u001b[0m\n\u001b[0;32m    156\u001b[0m         allow_unreachable=True, accumulate_grad=True)  # allow_unreachable flag\n",
      "\u001b[1;31mRuntimeError\u001b[0m: element 0 of tensors does not require grad and does not have a grad_fn"
     ]
    }
   ],
   "source": [
    "# [5e-2, 5e-4, 5e-6, 5e-8] 중 적절한 learning rate를 찾아주세요.\n",
    "# 적절한 learning rate보다 learning rate가 크거나 작을 때, 어떤 차이가 생기는지\n",
    "# 말씀해주세요.\n",
    "learning_rate = 5e-6\n",
    "\n",
    "# epoch = 2000\n",
    "for t in range(2000):\n",
    "    P3 = Legendre3Function.apply\n",
    "\n",
    "    # Forward pass: predict y.\n",
    "    # P3 using our custom backward function.\n",
    "    y_pred = a + b * P3(c + d * x)\n",
    "\n",
    "    # Compute and print MSE loss\n",
    "    loss = torch.mean((y_pred - y) ** 2)\n",
    "    if t % 100 == 0:\n",
    "        print(t, loss.item())\n",
    "\n",
    "    # Use autograd to compute the backward pass.\n",
    "    loss.backward()\n",
    "\n",
    "    # Update weights using gradient descent\n",
    "    # Hint : use a, b, c, d, learning_rate, a.grad, b.grad, c.grad, d.grad\n",
    "    with torch.no_grad():\n",
    "        a = a - learning_rate * a.grad\n",
    "        b = b - learning_rate * b.grad\n",
    "        c = c - learning_rate * c.grad\n",
    "        d = d - learning_rate * d.grad\n",
    "\n",
    "        # Manually zero the gradients after updating weights\n",
    "        a.grad = a.zero_grad_()\n",
    "        b.grad = b.zero_grad_()\n",
    "        c.grad = c.zero_grad_()\n",
    "        d.grad = d.zero_grad_()\n",
    "\n",
    "print(f'Result: y = {a.item()} + {b.item()} * P3({c.item()} + {d.item()} x)')"
   ]
  },
  {
   "cell_type": "markdown",
   "metadata": {
    "id": "DM8VpY2Cz0_d"
   },
   "source": [
    "##Q5. Different Basis Function for approximating sine function"
   ]
  },
  {
   "cell_type": "markdown",
   "metadata": {
    "id": "MC_TprmP1n8J"
   },
   "source": [
    "이번에는 ReLu function을 사용하여 sine함수를 학습해보려 한다. \\\n",
    "ReLu function을 사용했을 때에도, 학습이 잘 되는지 살펴보자."
   ]
  },
  {
   "cell_type": "code",
   "execution_count": 70,
   "metadata": {
    "id": "6LOdtF9T0yqi"
   },
   "outputs": [
    {
     "ename": "AttributeError",
     "evalue": "'Tensor' object has no attribute 'zero_grad_'",
     "output_type": "error",
     "traceback": [
      "\u001b[1;31m---------------------------------------------------------------------------\u001b[0m",
      "\u001b[1;31mAttributeError\u001b[0m                            Traceback (most recent call last)",
      "\u001b[1;32m<ipython-input-70-4a205b41fe89>\u001b[0m in \u001b[0;36m<module>\u001b[1;34m\u001b[0m\n\u001b[0;32m     58\u001b[0m \u001b[1;33m\u001b[0m\u001b[0m\n\u001b[0;32m     59\u001b[0m         \u001b[1;31m# Manually zero the gradients after updating weights\u001b[0m\u001b[1;33m\u001b[0m\u001b[1;33m\u001b[0m\u001b[1;33m\u001b[0m\u001b[0m\n\u001b[1;32m---> 60\u001b[1;33m         \u001b[0ma\u001b[0m\u001b[1;33m.\u001b[0m\u001b[0mgrad\u001b[0m \u001b[1;33m=\u001b[0m \u001b[0ma\u001b[0m\u001b[1;33m.\u001b[0m\u001b[0mzero_grad_\u001b[0m\u001b[1;33m(\u001b[0m\u001b[1;33m)\u001b[0m\u001b[1;33m\u001b[0m\u001b[1;33m\u001b[0m\u001b[0m\n\u001b[0m\u001b[0;32m     61\u001b[0m         \u001b[0mb\u001b[0m\u001b[1;33m.\u001b[0m\u001b[0mgrad\u001b[0m \u001b[1;33m=\u001b[0m \u001b[0mb\u001b[0m\u001b[1;33m.\u001b[0m\u001b[0mzero_grad_\u001b[0m\u001b[1;33m(\u001b[0m\u001b[1;33m)\u001b[0m\u001b[1;33m\u001b[0m\u001b[1;33m\u001b[0m\u001b[0m\n\u001b[0;32m     62\u001b[0m         \u001b[0mc\u001b[0m\u001b[1;33m.\u001b[0m\u001b[0mgrad\u001b[0m \u001b[1;33m=\u001b[0m \u001b[0mc\u001b[0m\u001b[1;33m.\u001b[0m\u001b[0mzero_grad_\u001b[0m\u001b[1;33m(\u001b[0m\u001b[1;33m)\u001b[0m\u001b[1;33m\u001b[0m\u001b[1;33m\u001b[0m\u001b[0m\n",
      "\u001b[1;31mAttributeError\u001b[0m: 'Tensor' object has no attribute 'zero_grad_'"
     ]
    }
   ],
   "source": [
    "class ReLuFunction(torch.autograd.Function):\n",
    "    @staticmethod\n",
    "    def forward(ctx, input):\n",
    "        ctx.save_for_backward(input)\n",
    "        return input.clamp(min=0)\n",
    "\n",
    "    @staticmethod\n",
    "    def backward(ctx, grad_output):\n",
    "        input, = ctx.saved_tensors\n",
    "        grad_input = grad_output.clone()\n",
    "\n",
    "        for i in range(len(grad_input)):\n",
    "            if grad_input[i] < 0:\n",
    "                grad_input[i] = 0\n",
    "            else :\n",
    "                grad_input[i] = 1\n",
    "            \n",
    "        # Hint : reLu function의 도함수의 형태를 반영하면 됩니다.\n",
    "        return grad_input\n",
    "\n",
    "dtype = torch.float\n",
    "device = torch.device(\"cpu\")\n",
    "\n",
    "x = torch.linspace(-math.pi, math.pi, 2000, device=device, dtype=dtype)\n",
    "y = torch.sin(x)\n",
    "\n",
    "# Our model : y = a + b * ReLu(c + d * x).\n",
    "# Setting requires_grad=True indicates that we want to compute gradients with\n",
    "# respect to these Tensors during the backward pass.\n",
    "a = torch.full((), 0.0, device=device, dtype=dtype, requires_grad=True)\n",
    "b = torch.full((), 1.0, device=device, dtype=dtype, requires_grad=True)\n",
    "c = torch.full((), 0.0, device=device, dtype=dtype, requires_grad=True)\n",
    "d = torch.full((), 1.0, device=device, dtype=dtype, requires_grad=True)\n",
    "\n",
    "learning_rate = 5e-7\n",
    "for t in range(2000):\n",
    "    ReLu = ReLuFunction.apply\n",
    "\n",
    "    # Forward pass: predict y.\n",
    "    # ReLu using our custom backward function.\n",
    "    y_pred = a + b * ReLu(c + d * x)\n",
    "\n",
    "    # Compute and print MSE loss\n",
    "    loss = torch.mean((y_pred - y) ** 2)\n",
    "    if t % 100 == 99:\n",
    "        print(t, loss.item())\n",
    "\n",
    "    # Use autograd to compute the backward pass.\n",
    "    loss.backward()\n",
    "\n",
    "    # Update weights using gradient descent\n",
    "    # Hint : use a, b, c, d, learning_rate, a.grad, b.grad, c.grad, d.grad\n",
    "    with torch.no_grad():\n",
    "        a = a - learning_rate * a.grad\n",
    "        b = b - learning_rate * b.grad\n",
    "        c = c - learning_rate * c.grad\n",
    "        d = d - learning_rate * d.grad\n",
    "\n",
    "        # Manually zero the gradients after updating weights\n",
    "        a.grad = a.zero_grad_()\n",
    "        b.grad = b.zero_grad_()\n",
    "        c.grad = c.zero_grad_()\n",
    "        d.grad = d.zero_grad_()\n",
    "\n",
    "print(f'Result: y = {a.item()} + {b.item()} * ReLu({c.item()} + {d.item()} x)')"
   ]
  },
  {
   "cell_type": "markdown",
   "metadata": {
    "id": "vJEtSsDc2gC9"
   },
   "source": [
    "## Q6. \n",
    "Q4, Q5에서 학습한 결과를 바탕으로, 어떤 function을 사용하는 것이 학습에 더 적절했었는지 코멘트해주세요."
   ]
  },
  {
   "cell_type": "markdown",
   "metadata": {
    "id": "s1bkyVzf3xQI"
   },
   "source": [
    "## Q7. Deep Learning Example"
   ]
  },
  {
   "cell_type": "markdown",
   "metadata": {
    "id": "aaLdpBPX4h0e"
   },
   "source": [
    "주어진 데이터를 로딩하고, 아래 코드의 빈칸을 채워\n",
    "딥러닝 학습을 하는 코드를 완성하여보자."
   ]
  },
  {
   "cell_type": "code",
   "execution_count": null,
   "metadata": {
    "colab": {
     "base_uri": "https://localhost:8080/",
     "height": 184,
     "resources": {
      "http://localhost:8080/nbextensions/google.colab/files.js": {
       "data": "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",
       "headers": [
        [
         "content-type",
         "application/javascript"
        ]
       ],
       "ok": true,
       "status": 200,
       "status_text": ""
      }
     }
    },
    "id": "B1so2sfQbpd5",
    "outputId": "ba125774-98ea-43b7-8a42-854d6fbb37d8"
   },
   "outputs": [
    {
     "data": {
      "text/html": [
       "\n",
       "     <input type=\"file\" id=\"files-4c7532dc-f451-4688-b107-10dc4b73fd7f\" name=\"files[]\" multiple disabled\n",
       "        style=\"border:none\" />\n",
       "     <output id=\"result-4c7532dc-f451-4688-b107-10dc4b73fd7f\">\n",
       "      Upload widget is only available when the cell has been executed in the\n",
       "      current browser session. Please rerun this cell to enable.\n",
       "      </output>\n",
       "      <script src=\"/nbextensions/google.colab/files.js\"></script> "
      ],
      "text/plain": [
       "<IPython.core.display.HTML object>"
      ]
     },
     "metadata": {},
     "output_type": "display_data"
    },
    {
     "name": "stdout",
     "output_type": "stream",
     "text": [
      "Saving testX.csv to testX.csv\n",
      "Saving testY.csv to testY.csv\n",
      "Saving trainX.csv to trainX.csv\n",
      "Saving trainY.csv to trainY.csv\n"
     ]
    }
   ],
   "source": [
    "# 업로드 시간이 7분 30초 가량 걸리기에, 그동안 밑에 코드 작성 먼저 해주셔도 됩니다. (colab 사용시)\n",
    "# colab 사용하시면, 주석 지우고 사용해주세요\n",
    "\n",
    "# from google.colab import files\n",
    "# uploaded = files.upload()"
   ]
  },
  {
   "cell_type": "code",
   "execution_count": 71,
   "metadata": {
    "id": "pp21KgUE4x8h"
   },
   "outputs": [],
   "source": [
    "# Data Loading using pd.read_csv\n",
    "\n",
    "train_X = pd.read_csv(\"trainX.csv\", encoding = \"utf-8\")\n",
    "train_Y = pd.read_csv(\"trainY.csv\", encoding = \"utf-8\")\n",
    "\n",
    "test_X = pd.read_csv(\"testX.csv\", encoding = \"utf-8\")\n",
    "test_Y = pd.read_csv(\"testY.csv\", encoding = \"utf-8\")"
   ]
  },
  {
   "cell_type": "code",
   "execution_count": 72,
   "metadata": {
    "id": "l0-2JLqg441e"
   },
   "outputs": [],
   "source": [
    "# Data Setting\n",
    "train_X = np.array(train_X)\n",
    "train_Y = np.array(train_Y)\n",
    "\n",
    "test_X = np.array(test_X)\n",
    "test_Y = np.array(test_Y)\n",
    "\n",
    "input_dim = len(train_X[0])\n",
    "\n",
    "# Data type casting to torchTensor\n",
    "train_x = torch.FloatTensor(train_X)\n",
    "train_y = torch.FloatTensor(train_Y)\n",
    "\n",
    "# Set batch size\n",
    "batch_size = 4096\n",
    "dataset = TensorDataset(train_x, train_y)\n",
    "\n",
    "# DataLoader setting\n",
    "# 셔플이 있고, batch size에 맞게 dataloader를 세팅해주세요,\n",
    "dataloader = DataLoader(dataset, shuffle = True, batch_size = batch_size)"
   ]
  },
  {
   "cell_type": "code",
   "execution_count": 82,
   "metadata": {
    "id": "LV6Sgdv15nkM"
   },
   "outputs": [],
   "source": [
    "# Model Setting\n",
    "model = torch.nn.Sequential(\n",
    "    torch.nn.Linear(input_dim, int(input_dim/6)),\n",
    "    # 각 Layer의 activation function을 설정해주세요.\n",
    "    torch.nn.ReLU(),\n",
    "    # Hint : hidden layer activation function ReLu\n",
    "    torch.nn.Linear(int(input_dim/6), int(input_dim/5)),\n",
    "    torch.nn.ReLU(),\n",
    "    # Hint : hidden layer activation function ReLu\n",
    "    torch.nn.Linear(int(input_dim/5), 1),\n",
    "    torch.nn.Sigmoid()\n",
    "    # Hint : Output layer activation function for binary classification\n",
    "    )"
   ]
  },
  {
   "cell_type": "code",
   "execution_count": 83,
   "metadata": {
    "colab": {
     "base_uri": "https://localhost:8080/"
    },
    "id": "7LLXeKJC6rIi",
    "outputId": "dd4ddeb2-3181-46d8-d467-37e503413449"
   },
   "outputs": [
    {
     "name": "stdout",
     "output_type": "stream",
     "text": [
      "The number of parameters: 1977 elements\n"
     ]
    }
   ],
   "source": [
    "params = list(model.parameters())\n",
    "print(\"The number of parameters:\", sum([p.numel() for p in model.parameters() if p.requires_grad]), \"elements\")\n",
    "x = torch.from_numpy(train_X.astype(np.float32))\n",
    "y = torch.from_numpy(train_Y.astype(np.float32)).view(-1, 1)\n",
    "\n",
    "# loss function 부분을 채워주세요.\n",
    "# BCE loss를 사용합니다.\n",
    "loss_fn = torch.nn.BCELoss()"
   ]
  },
  {
   "cell_type": "code",
   "execution_count": 84,
   "metadata": {
    "id": "xyGnAGQJ6Ihy"
   },
   "outputs": [
    {
     "name": "stdout",
     "output_type": "stream",
     "text": [
      "iter 0/200 loss: 0.6771\n",
      "iter 10/200 loss: 0.5791\n",
      "iter 20/200 loss: 0.5549\n",
      "iter 30/200 loss: 0.5408\n",
      "iter 40/200 loss: 0.5223\n",
      "iter 50/200 loss: 0.5071\n",
      "iter 60/200 loss: 0.4975\n",
      "iter 70/200 loss: 0.4868\n",
      "iter 80/200 loss: 0.4749\n",
      "iter 90/200 loss: 0.4629\n",
      "iter 100/200 loss: 0.4487\n",
      "iter 110/200 loss: 0.4428\n",
      "iter 120/200 loss: 0.4407\n",
      "iter 130/200 loss: 0.4309\n",
      "iter 140/200 loss: 0.4290\n",
      "iter 150/200 loss: 0.4257\n",
      "iter 160/200 loss: 0.4199\n",
      "iter 170/200 loss: 0.4216\n",
      "iter 180/200 loss: 0.4206\n",
      "iter 190/200 loss: 0.4210\n",
      "iter 200/200 loss: 0.4178\n"
     ]
    }
   ],
   "source": [
    "learning_rate = 1e-3\n",
    "iter = 200\n",
    "loss_list = []\n",
    "# Adam optimizer를 설정해주세요. learning rate, 그리고 weight_decay는 5e-2로 설정해주세요.\n",
    "optimizer = torch.optim.Adam(model.parameters(), lr = learning_rate, weight_decay = 5e-2)\n",
    "\n",
    "prev_loss = 1e+30\n",
    "\n",
    "for t in range(iter+1):\n",
    "    for batch, sample in enumerate(dataloader):\n",
    "        trainx, trainy = sample\n",
    "        y_pred = model(trainx)\n",
    "\n",
    "        loss = loss_fn(y_pred, trainy)\n",
    "\n",
    "      # gradient 계산 및 gradient descent 계산을 통한 optimization 부분\n",
    "      # 코드를 채워주세요.\n",
    "        optimizer.zero_grad()\n",
    "        loss.backward()\n",
    "        optimizer.step()\n",
    "    \n",
    "        loss_list.append(loss.item())\n",
    "\n",
    "    cur_loss = np.mean(loss_list[max(0, len(loss_list)-batch-1):len(loss_list)-1])\n",
    "    \n",
    "    if t % 10 == 0:\n",
    "        print('iter {}/{} loss: {:.4f}'.format(\n",
    "            t, iter, cur_loss))"
   ]
  },
  {
   "cell_type": "code",
   "execution_count": 85,
   "metadata": {
    "id": "uYrvNZ-68Y_L"
   },
   "outputs": [
    {
     "name": "stdout",
     "output_type": "stream",
     "text": [
      "Weighted F1: 0.7986728940448474\n"
     ]
    },
    {
     "data": {
      "text/plain": [
       "[<matplotlib.lines.Line2D at 0x132fe8af340>]"
      ]
     },
     "execution_count": 85,
     "metadata": {},
     "output_type": "execute_result"
    },
    {
     "data": {
      "image/png": "[encoded data removed]",
      "text/plain": [
       "<Figure size 432x288 with 1 Axes>"
      ]
     },
     "metadata": {
      "needs_background": "light"
     },
     "output_type": "display_data"
    }
   ],
   "source": [
    "y_predict = model(torch.from_numpy(test_X.astype(np.float32)))\n",
    "y_pred = y_predict.detach().numpy()\n",
    "\n",
    "# test set의 prediction값을 계산하는 식을 작성하고, weighted f1 score를 계산해주세요.\n",
    "y_pred = [1.0 if x > 0.5 else 0.0 for x in y_pred]\n",
    "result = f1_score(test_Y, y_pred, average=\"weighted\")\n",
    "\n",
    "# 결과물 출력\n",
    "print(\"Weighted F1:\", result)\n",
    "step = np.linspace(0, len(loss_list), len(loss_list))\n",
    "plt.plot(step/int(batch_size + 1), np.array(loss_list))"
   ]
  }
 ],
 "metadata": {
  "colab": {
   "collapsed_sections": [
    "jXzoKyGxv-aA",
    "DM8VpY2Cz0_d"
   ],
   "name": "pytorch_lab01.ipynb",
   "provenance": []
  },
  "kernelspec": {
   "display_name": "Python 3",
   "language": "python",
   "name": "python3"
  },
  "language_info": {
   "codemirror_mode": {
    "name": "ipython",
    "version": 3
   },
   "file_extension": ".py",
   "mimetype": "text/x-python",
   "name": "python",
   "nbconvert_exporter": "python",
   "pygments_lexer": "ipython3",
   "version": "3.8.8"
  }
 },
 "nbformat": 4,
 "nbformat_minor": 1
}
