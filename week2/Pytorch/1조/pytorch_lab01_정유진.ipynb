{
 "cells": [
  {
   "cell_type": "code",
   "execution_count": 1,
   "metadata": {
    "colab": {
     "base_uri": "https://localhost:8080/"
    },
    "id": "kjtirCJZF01L",
    "outputId": "d8be5d9a-1125-425d-b3a7-1827c3ecf3a9"
   },
   "outputs": [
    {
     "name": "stdout",
     "output_type": "stream",
     "text": [
      "Requirement already satisfied: torch in c:\\users\\yujinjeong\\anaconda3\\envs\\tensorflow\\lib\\site-packages (1.10.1)\n",
      "Requirement already satisfied: typing-extensions in c:\\users\\yujinjeong\\anaconda3\\envs\\tensorflow\\lib\\site-packages (from torch) (3.10.0.0)\n",
      "Requirement already satisfied: torchvision in c:\\users\\yujinjeong\\anaconda3\\envs\\tensorflow\\lib\\site-packages (0.11.2)\n",
      "Requirement already satisfied: numpy in c:\\users\\yujinjeong\\anaconda3\\envs\\tensorflow\\lib\\site-packages (from torchvision) (1.19.5)\n",
      "Requirement already satisfied: pillow!=8.3.0,>=5.3.0 in c:\\users\\yujinjeong\\anaconda3\\envs\\tensorflow\\lib\\site-packages (from torchvision) (8.3.1)\n",
      "Requirement already satisfied: torch==1.10.1 in c:\\users\\yujinjeong\\anaconda3\\envs\\tensorflow\\lib\\site-packages (from torchvision) (1.10.1)\n",
      "Requirement already satisfied: typing-extensions in c:\\users\\yujinjeong\\anaconda3\\envs\\tensorflow\\lib\\site-packages (from torch==1.10.1->torchvision) (3.10.0.0)\n"
     ]
    }
   ],
   "source": [
    "!pip3 install torch\n",
    "!pip3 install torchvision\n",
    "\n",
    "import torch\n",
    "import torch.nn as nn\n",
    "import torch.nn.functional as F\n",
    "import torch.optim as optim\n",
    "import torchvision.datasets as dsets\n",
    "import torchvision.transforms as transforms\n",
    "\n",
    "from torch.utils.data import DataLoader \n",
    "from torch.utils.data import TensorDataset\n",
    "\n",
    "from sklearn.metrics import accuracy_score\n",
    "from sklearn.metrics import f1_score\n",
    "from sklearn.metrics import roc_auc_score\n",
    "\n",
    "import numpy as np\n",
    "import pandas as pd\n",
    "from scipy.stats import norm\n",
    "import matplotlib.pyplot as plt\n",
    "import random\n",
    "import math"
   ]
  },
  {
   "cell_type": "markdown",
   "metadata": {
    "id": "qrdnwE-Ckd6z"
   },
   "source": [
    "# Q1 gradient descent로 simple linear regression 추정하기"
   ]
  },
  {
   "cell_type": "markdown",
   "metadata": {
    "id": "yV3I2XODkzpq"
   },
   "source": [
    "예제로 사용할 데이터 생성하기\n",
    "\n",
    "$ y_i = \\beta_0 + \\beta_1 \\times x_i + \\epsilon_i \\quad \\epsilon_i \\sim  iid N(0, 1)$ \n",
    "\n",
    "$ \\beta_0 = 5, \\beta_1 = 2$라는 모형을 따르는 데이터를 생성해준다. "
   ]
  },
  {
   "cell_type": "code",
   "execution_count": 15,
   "metadata": {
    "colab": {
     "base_uri": "https://localhost:8080/",
     "height": 265
    },
    "id": "DJuJTVrQmFel",
    "outputId": "dd10503e-bd27-41f6-8fce-26154b0c8e07"
   },
   "outputs": [
    {
     "data": {
      "image/png": "[encoded data removed]",
      "text/plain": [
       "<Figure size 432x288 with 1 Axes>"
      ]
     },
     "metadata": {
      "needs_background": "light"
     },
     "output_type": "display_data"
    }
   ],
   "source": [
    "x_train_np = np.linspace(0, 10, 100).reshape(-1, 1)\n",
    "\n",
    "y_train_np = 2 *  x_train_np + 5 + norm.rvs(0, 1, size = len(x_train_np)).reshape(-1, 1)\n",
    "\n",
    "plt.scatter(x_train_np, y_train_np)\n",
    "plt.show()"
   ]
  },
  {
   "cell_type": "markdown",
   "metadata": {
    "id": "FdABaEaimr-s"
   },
   "source": [
    "$ \\hat{y_i} = \\beta_0 + \\beta_1 \\times x_i $\n",
    "\n",
    "$ \\hat{y_i} = bias + weight \\times x_i $\n",
    "\n",
    "gradient descent를 사용해 bias와 weight를 학습해보자. \n",
    "\n",
    "1) 추정된 bias와 weight의 결과값은 얼마인가? 그래프를 그려 실제 회귀식에 가깝게 추정되었는지를 확인해보자. "
   ]
  },
  {
   "cell_type": "code",
   "execution_count": 11,
   "metadata": {
    "id": "lt6LWxJRmTls"
   },
   "outputs": [
    {
     "name": "stdout",
     "output_type": "stream",
     "text": [
      "Epoch    0/1000 W: 1.858, b: 0.301 Cost: 264.324615\n",
      "Epoch  100/1000 W: 2.462, b: 2.106 Cost: 2.798014\n",
      "Epoch  200/1000 W: 2.309, b: 3.124 Cost: 1.706712\n",
      "Epoch  300/1000 W: 2.215, b: 3.744 Cost: 1.303341\n",
      "Epoch  400/1000 W: 2.159, b: 4.120 Cost: 1.154246\n",
      "Epoch  500/1000 W: 2.124, b: 4.349 Cost: 1.099136\n",
      "Epoch  600/1000 W: 2.104, b: 4.488 Cost: 1.078767\n",
      "Epoch  700/1000 W: 2.091, b: 4.573 Cost: 1.071237\n",
      "Epoch  800/1000 W: 2.083, b: 4.624 Cost: 1.068455\n",
      "Epoch  900/1000 W: 2.078, b: 4.656 Cost: 1.067426\n",
      "Epoch 1000/1000 W: 2.076, b: 4.675 Cost: 1.067046\n"
     ]
    }
   ],
   "source": [
    "x_train = torch.FloatTensor(x_train_np)\n",
    "y_train = torch.FloatTensor(y_train_np)\n",
    "\n",
    "W = torch.zeros(1, requires_grad = True) # Weight\n",
    "b = torch.zeros(1, requires_grad = True) # bias\n",
    "\n",
    "optimizer = optim.SGD([W, b], lr = 0.01)\n",
    "\n",
    "n_epochs = 1000\n",
    "for epoch in range(n_epochs + 1):\n",
    "\n",
    "  # H(x) 계산\n",
    "  hypothesis = x_train*W+b\n",
    "  \n",
    "  # cost 계산: MSE\n",
    "  cost = torch.mean((hypothesis-y_train)**2)\n",
    "  # cost로 H(x) 개선\n",
    "\n",
    "  optimizer.zero_grad()\n",
    "  cost.backward()\n",
    "  optimizer.step()\n",
    "\n",
    "  if epoch % 100 == 0:\n",
    "      print('Epoch {:4d}/{} W: {:.3f}, b: {:.3f} Cost: {:.6f}'.format(\n",
    "          epoch, n_epochs, W.item(), b.item(), cost.item()\n",
    "      ))"
   ]
  },
  {
   "cell_type": "code",
   "execution_count": 12,
   "metadata": {
    "colab": {
     "base_uri": "https://localhost:8080/",
     "height": 284
    },
    "id": "CLKgfvzhaDu4",
    "outputId": "7c6df380-e78a-4df0-e514-1ed06fbab5f9"
   },
   "outputs": [
    {
     "data": {
      "text/plain": [
       "[<matplotlib.lines.Line2D at 0x23e60f38e08>]"
      ]
     },
     "execution_count": 12,
     "metadata": {},
     "output_type": "execute_result"
    },
    {
     "data": {
      "image/png": "[encoded data removed]",
      "text/plain": [
       "<Figure size 432x288 with 1 Axes>"
      ]
     },
     "metadata": {
      "needs_background": "light"
     },
     "output_type": "display_data"
    }
   ],
   "source": [
    "y_pred = W * x_train + b # 추정한 회귀식\n",
    "y_real = 2 * x_train + 5 # 실제 회귀식\n",
    "\n",
    "plt.plot(x_train_np, y_pred.detach().numpy())\n",
    "plt.plot(x_train_np, y_real.detach().numpy())"
   ]
  },
  {
   "cell_type": "markdown",
   "metadata": {
    "id": "yNA2S1mmqEvc"
   },
   "source": [
    "2) learning rate를 0.03으로 조정해보자. 어떠한 문제가 발생하는가?\n",
    "\n",
    "답: cost(MSE)가 최소가 되는 점을 찾지 못하고 발산한다. "
   ]
  },
  {
   "cell_type": "code",
   "execution_count": 18,
   "metadata": {
    "id": "4gRKC_F_qcqM"
   },
   "outputs": [
    {
     "name": "stdout",
     "output_type": "stream",
     "text": [
      "Epoch    0/1000 W: 5.422, b: 0.611 Cost: 231.462601\n",
      "Epoch  100/1000 W: 579.222, b: 90.459 Cost: 10473431.000000\n",
      "Epoch  200/1000 W: 124460.414, b: 18718.051 Cost: 487286898688.000000\n",
      "Epoch  300/1000 W: 26845506.000, b: 4036499.750 Cost: 22671504562978816.000000\n",
      "Epoch  400/1000 W: 5790533632.000, b: 870665600.000 Cost: 1054809320087185522688.000000\n",
      "Epoch  500/1000 W: 1249005273088.000, b: 187800879104.000 Cost: 49075630311662540998836224.000000\n",
      "Epoch  600/1000 W: 269408970735616.000, b: 40508411871232.000 Cost: 2283289430793957916206037991424.000000\n",
      "Epoch  700/1000 W: 58111221047492608.000, b: 8737612210634752.000 Cost: 106232428074910594381518259070435328.000000\n",
      "Epoch  800/1000 W: 12534559000483594240.000, b: 1884700094083629056.000 Cost: inf\n",
      "Epoch  900/1000 W: 2703686778170952908800.000, b: 406526673854457184256.000 Cost: inf\n",
      "Epoch 1000/1000 W: 583180519264227476635648.000, b: 87687129379134383325184.000 Cost: inf\n"
     ]
    }
   ],
   "source": [
    "# 직접 W와 b를 정의하지 않고, nn.Module을 사용해 손쉽게 선형 모델을 생성할 수 있습니다. \n",
    "# 입출력값의 차원을 생각해 in_features와 out_features의 값을 적절하게 지정해주세요\n",
    "\n",
    "in_features = 1\n",
    "out_features = 1\n",
    "\n",
    "model = nn.Linear(in_features = in_features, out_features = out_features, bias = True)\n",
    "\n",
    "optimizer = optim.SGD(model.parameters(), lr = 0.03)\n",
    "\n",
    "nb_epochs = 1000\n",
    "for epoch in range(nb_epochs + 1):\n",
    "\n",
    "    # H(x) 계산\n",
    "    hypothesis = model(x_train)\n",
    "    \n",
    "    # cost 계산\n",
    "    cost = F.mse_loss(hypothesis, y_train)\n",
    "\n",
    "    # cost로 H(x) 개선\n",
    "    optimizer.zero_grad()\n",
    "    cost.backward()\n",
    "    optimizer.step()\n",
    "\n",
    "    # 100번마다 로그 출력\n",
    "    if epoch % 100 == 0:\n",
    "        params = list(model.parameters())\n",
    "        W = params[0].item()\n",
    "        b = params[1].item()\n",
    "        print('Epoch {:4d}/{} W: {:.3f}, b: {:.3f} Cost: {:.6f}'.format(\n",
    "            epoch, nb_epochs, W, b, cost.item()\n",
    "        ))"
   ]
  },
  {
   "cell_type": "markdown",
   "metadata": {
    "id": "eoLOBBP4tBgc"
   },
   "source": [
    "3) learning rate를 0.00000001로 조정해보자. 어떠한 문제가 발생하는가?\n",
    "\n",
    "답: cost가 최소가 되는 점을 찾기까지 시간이 오래걸린다. epoch수를 늘리면 찾을수도 있지만 비효율적이다. "
   ]
  },
  {
   "cell_type": "code",
   "execution_count": 19,
   "metadata": {
    "colab": {
     "base_uri": "https://localhost:8080/"
    },
    "id": "5L8OdKyqtNGq",
    "outputId": "532ff27f-e57a-4175-b1e6-5cc9332370bc"
   },
   "outputs": [
    {
     "name": "stdout",
     "output_type": "stream",
     "text": [
      "Epoch    0/1000 W: 0.000, b: 0.000 Cost: 264.324615\n",
      "Epoch  100/1000 W: 0.000, b: 0.000 Cost: 264.289185\n",
      "Epoch  200/1000 W: 0.000, b: 0.000 Cost: 264.253784\n",
      "Epoch  300/1000 W: 0.001, b: 0.000 Cost: 264.218353\n",
      "Epoch  400/1000 W: 0.001, b: 0.000 Cost: 264.182953\n",
      "Epoch  500/1000 W: 0.001, b: 0.000 Cost: 264.147491\n",
      "Epoch  600/1000 W: 0.001, b: 0.000 Cost: 264.112122\n",
      "Epoch  700/1000 W: 0.001, b: 0.000 Cost: 264.076691\n",
      "Epoch  800/1000 W: 0.001, b: 0.000 Cost: 264.041290\n",
      "Epoch  900/1000 W: 0.002, b: 0.000 Cost: 264.005951\n",
      "Epoch 1000/1000 W: 0.002, b: 0.000 Cost: 263.970551\n"
     ]
    }
   ],
   "source": [
    "W = torch.zeros(1, requires_grad = True) # Weight\n",
    "b = torch.zeros(1, requires_grad = True) # bias\n",
    "\n",
    "optimizer = optim.SGD([W, b], lr = 0.00000001)\n",
    "\n",
    "n_epochs = 1000\n",
    "for epoch in range(n_epochs + 1):\n",
    "\n",
    "  # H(x) 계산\n",
    "  hypothesis = x_train * W + b \n",
    "  \n",
    "  # cost 계산: MSE\n",
    "  cost = torch.mean((hypothesis - y_train)**2) \n",
    "\n",
    "  # cost로 H(x) 개선\n",
    "  optimizer.zero_grad()\n",
    "  cost.backward()\n",
    "  optimizer.step()\n",
    "\n",
    "  if epoch % 100 == 0:\n",
    "      print('Epoch {:4d}/{} W: {:.3f}, b: {:.3f} Cost: {:.6f}'.format(\n",
    "          epoch, nb_epochs, W.item(), b.item(), cost.item()\n",
    "      ))"
   ]
  },
  {
   "cell_type": "markdown",
   "metadata": {
    "id": "TwmayIyvdT5W"
   },
   "source": [
    "# Q2. train set and test set - MNIST"
   ]
  },
  {
   "cell_type": "markdown",
   "metadata": {
    "id": "qckEHyW-t_EQ"
   },
   "source": [
    "MNIST dataset을 불러온다. "
   ]
  },
  {
   "cell_type": "code",
   "execution_count": 24,
   "metadata": {
    "id": "u85modI7dZgP"
   },
   "outputs": [
    {
     "name": "stdout",
     "output_type": "stream",
     "text": [
      "Downloading http://yann.lecun.com/exdb/mnist/train-images-idx3-ubyte.gz\n",
      "Downloading http://yann.lecun.com/exdb/mnist/train-images-idx3-ubyte.gz to MNIST_data/MNIST\\raw\\train-images-idx3-ubyte.gz\n"
     ]
    },
    {
     "data": {
      "application/vnd.jupyter.widget-view+json": {
       "model_id": "7666b0edf4424db8b837925cf9c30114",
       "version_major": 2,
       "version_minor": 0
      },
      "text/plain": [
       "  0%|          | 0/9912422 [00:00<?, ?it/s]"
      ]
     },
     "metadata": {},
     "output_type": "display_data"
    },
    {
     "name": "stdout",
     "output_type": "stream",
     "text": [
      "Extracting MNIST_data/MNIST\\raw\\train-images-idx3-ubyte.gz to MNIST_data/MNIST\\raw\n",
      "\n",
      "Downloading http://yann.lecun.com/exdb/mnist/train-labels-idx1-ubyte.gz\n",
      "Downloading http://yann.lecun.com/exdb/mnist/train-labels-idx1-ubyte.gz to MNIST_data/MNIST\\raw\\train-labels-idx1-ubyte.gz\n"
     ]
    },
    {
     "data": {
      "application/vnd.jupyter.widget-view+json": {
       "model_id": "1dc6b91f65a647e5ad2e51e4b4b228b0",
       "version_major": 2,
       "version_minor": 0
      },
      "text/plain": [
       "  0%|          | 0/28881 [00:00<?, ?it/s]"
      ]
     },
     "metadata": {},
     "output_type": "display_data"
    },
    {
     "name": "stdout",
     "output_type": "stream",
     "text": [
      "Extracting MNIST_data/MNIST\\raw\\train-labels-idx1-ubyte.gz to MNIST_data/MNIST\\raw\n",
      "\n",
      "Downloading http://yann.lecun.com/exdb/mnist/t10k-images-idx3-ubyte.gz\n",
      "Downloading http://yann.lecun.com/exdb/mnist/t10k-images-idx3-ubyte.gz to MNIST_data/MNIST\\raw\\t10k-images-idx3-ubyte.gz\n"
     ]
    },
    {
     "data": {
      "application/vnd.jupyter.widget-view+json": {
       "model_id": "577416f1fa0f4aa880b8fa3d22d7b61d",
       "version_major": 2,
       "version_minor": 0
      },
      "text/plain": [
       "  0%|          | 0/1648877 [00:00<?, ?it/s]"
      ]
     },
     "metadata": {},
     "output_type": "display_data"
    },
    {
     "name": "stdout",
     "output_type": "stream",
     "text": [
      "Extracting MNIST_data/MNIST\\raw\\t10k-images-idx3-ubyte.gz to MNIST_data/MNIST\\raw\n",
      "\n",
      "Downloading http://yann.lecun.com/exdb/mnist/t10k-labels-idx1-ubyte.gz\n",
      "Downloading http://yann.lecun.com/exdb/mnist/t10k-labels-idx1-ubyte.gz to MNIST_data/MNIST\\raw\\t10k-labels-idx1-ubyte.gz\n"
     ]
    },
    {
     "data": {
      "application/vnd.jupyter.widget-view+json": {
       "model_id": "1a198bda9394449299ff0fd3690d06ae",
       "version_major": 2,
       "version_minor": 0
      },
      "text/plain": [
       "  0%|          | 0/4542 [00:00<?, ?it/s]"
      ]
     },
     "metadata": {},
     "output_type": "display_data"
    },
    {
     "name": "stdout",
     "output_type": "stream",
     "text": [
      "Extracting MNIST_data/MNIST\\raw\\t10k-labels-idx1-ubyte.gz to MNIST_data/MNIST\\raw\n",
      "\n"
     ]
    }
   ],
   "source": [
    "mnist_train = dsets.MNIST(root='MNIST_data/',\n",
    "                          train=True,\n",
    "                          transform=transforms.ToTensor(),\n",
    "                          download=True)\n",
    "\n",
    "mnist_test = dsets.MNIST(root='MNIST_data/',\n",
    "                         train=False,\n",
    "                         transform=transforms.ToTensor(),\n",
    "                         download=True)\n",
    "\n",
    "data_loader = DataLoader(dataset = mnist_train,\n",
    "                         batch_size = 100, \n",
    "                         shuffle = True\n",
    "                         )"
   ]
  },
  {
   "cell_type": "markdown",
   "metadata": {
    "id": "GIuf-1TTuJkB"
   },
   "source": [
    "1) epoch 수를 15로 설정하여 trainset을 훈련시켜보자. \n",
    "\n",
    "그 후 훈련시킨 모델로 testset에 대한 평가를 진행해보자. "
   ]
  },
  {
   "cell_type": "code",
   "execution_count": 25,
   "metadata": {
    "id": "a16aNA_xfH12"
   },
   "outputs": [
    {
     "name": "stdout",
     "output_type": "stream",
     "text": [
      "Epoch: 0001 cost = 0.534769058\n",
      "Epoch: 0002 cost = 0.359726757\n",
      "Epoch: 0003 cost = 0.331516922\n",
      "Epoch: 0004 cost = 0.316742122\n",
      "Epoch: 0005 cost = 0.307033449\n",
      "Epoch: 0006 cost = 0.300402343\n",
      "Epoch: 0007 cost = 0.295257986\n",
      "Epoch: 0008 cost = 0.290938050\n",
      "Epoch: 0009 cost = 0.287426412\n",
      "Epoch: 0010 cost = 0.284510881\n",
      "Epoch: 0011 cost = 0.282069147\n",
      "Epoch: 0012 cost = 0.279803336\n",
      "Epoch: 0013 cost = 0.277543426\n",
      "Epoch: 0014 cost = 0.275972158\n",
      "Epoch: 0015 cost = 0.274380267\n"
     ]
    }
   ],
   "source": [
    "# train model with train sets\n",
    "\n",
    "# 입출력값의 차원을 생각해 in_features와 out_features의 값을 적절하게 지정해주세요\n",
    "\n",
    "in_features = 28*28\n",
    "out_features = 10\n",
    "linear = torch.nn.Linear(in_features = in_features, out_features=out_features, bias = True)\n",
    "\n",
    "criterion = torch.nn.CrossEntropyLoss()    # Softmax is internally computed.\n",
    "optimizer = torch.optim.SGD(linear.parameters(), lr=0.1)\n",
    "\n",
    "training_epochs = 15\n",
    "\n",
    "for epoch in range(training_epochs):\n",
    "    avg_cost = 0\n",
    "    total_batch = len(data_loader)\n",
    "\n",
    "    for X, Y in data_loader:\n",
    "        # reshape input image into [batch_size by 784]\n",
    "        # label is not one-hot encoded\n",
    "        X = X.view(-1, 28 * 28)\n",
    "        Y = Y\n",
    "\n",
    "        # H(x) 계산\n",
    "        hypothesis = linear(X)\n",
    "\n",
    "        # cost 계산\n",
    "        cost = criterion(hypothesis, Y)\n",
    "\n",
    "        #cost로 H(x) 개선\n",
    "        optimizer.zero_grad()\n",
    "        cost.backward()\n",
    "        optimizer.step()\n",
    "\n",
    "        avg_cost += cost / total_batch\n",
    "\n",
    "    print('Epoch:', '%04d' % (epoch + 1), 'cost =', '{:.9f}'.format(avg_cost))"
   ]
  },
  {
   "cell_type": "code",
   "execution_count": 26,
   "metadata": {
    "id": "piNVdn75gLKd"
   },
   "outputs": [
    {
     "name": "stdout",
     "output_type": "stream",
     "text": [
      "Accuracy: 0.8903999924659729\n",
      "cost: 0.3211417496204376\n"
     ]
    },
    {
     "name": "stderr",
     "output_type": "stream",
     "text": [
      "c:\\users\\yujinjeong\\anaconda3\\envs\\tensorflow\\lib\\site-packages\\torchvision\\datasets\\mnist.py:67: UserWarning: test_data has been renamed data\n",
      "  warnings.warn(\"test_data has been renamed data\")\n",
      "c:\\users\\yujinjeong\\anaconda3\\envs\\tensorflow\\lib\\site-packages\\torchvision\\datasets\\mnist.py:57: UserWarning: test_labels has been renamed targets\n",
      "  warnings.warn(\"test_labels has been renamed targets\")\n"
     ]
    }
   ],
   "source": [
    "# Test the model using test sets\n",
    "with torch.no_grad(): # torch.no_grad()를 사용하는 이유를 간단하게 설명해봅시다. => gradient descent계산안함, 그건 train dateset에만 해야됨\n",
    "\n",
    "    X_test = mnist_test.test_data.view(-1, 28 * 28).float()\n",
    "    Y_test = mnist_test.test_labels\n",
    "\n",
    "    prediction = linear(X_test)\n",
    "    correct_prediction = torch.argmax(prediction, 1) == Y_test\n",
    "    accuracy = correct_prediction.float().mean()\n",
    "    print('Accuracy:', accuracy.item())\n",
    "    print('cost:', cost.item())"
   ]
  },
  {
   "cell_type": "markdown",
   "metadata": {
    "id": "EkFfH5tsuY-G"
   },
   "source": [
    "2) epoch 수를 30으로 설정하여 trainset을 훈련시켜보자. \n",
    "\n",
    "그 후 훈련시킨 모델로 testset에 대한 평가를 진행해보자. \n",
    "\n",
    "어떠한 문제가 발생하는가?\n",
    "\n",
    "overfitiing"
   ]
  },
  {
   "cell_type": "code",
   "execution_count": 27,
   "metadata": {
    "id": "rcrYS0wVhMlm"
   },
   "outputs": [
    {
     "name": "stdout",
     "output_type": "stream",
     "text": [
      "Epoch: 0001 cost = 0.535284936\n",
      "Epoch: 0006 cost = 0.300180852\n",
      "Epoch: 0011 cost = 0.282029510\n",
      "Epoch: 0016 cost = 0.272846222\n",
      "Epoch: 0021 cost = 0.267300725\n",
      "Epoch: 0026 cost = 0.263106257\n"
     ]
    }
   ],
   "source": [
    "linear = torch.nn.Linear(784, 10, bias = True)\n",
    "criterion = torch.nn.CrossEntropyLoss()   \n",
    "optimizer = torch.optim.SGD(linear.parameters(), lr=0.1)\n",
    "\n",
    "training_epochs = 30\n",
    "\n",
    "for epoch in range(training_epochs):\n",
    "    avg_cost = 0\n",
    "    total_batch = len(data_loader)\n",
    "\n",
    "    for X, Y in data_loader:\n",
    "        X = X.view(-1, 28 * 28)\n",
    "        Y = Y\n",
    "\n",
    "        # H(x) 계산\n",
    "        hypothesis = linear(X)\n",
    "\n",
    "        # cost 계산\n",
    "        cost = criterion(hypothesis, Y)\n",
    "\n",
    "        #cost로 H(x) 개선\n",
    "        optimizer.zero_grad()\n",
    "        cost.backward()\n",
    "        optimizer.step()\n",
    "\n",
    "        avg_cost += cost / total_batch\n",
    "\n",
    "    if epoch % 5 == 0:\n",
    "      print('Epoch:', '%04d' % (epoch + 1), 'cost =', '{:.9f}'.format(avg_cost))"
   ]
  },
  {
   "cell_type": "code",
   "execution_count": null,
   "metadata": {
    "id": "_g-hNozohXlQ"
   },
   "outputs": [],
   "source": [
    "# Test the model using test sets\n",
    "with torch.no_grad():\n",
    "    X_test = mnist_test.test_data.view(-1, 28 * 28).float()\n",
    "    Y_test = mnist_test.test_labels\n",
    "\n",
    "    prediction = linear(X_test)\n",
    "    correct_prediction = torch.argmax(prediction, 1) == Y_test\n",
    "    accuracy = correct_prediction.float().mean()\n",
    "    \n",
    "    print('Accuracy:', accuracy.item())\n",
    "    print('cost:', cost.item())"
   ]
  },
  {
   "cell_type": "markdown",
   "metadata": {
    "id": "y0mGZ5CpmCqK"
   },
   "source": [
    "# Q3. XOR problem with multilayer perceptron\n",
    "\n"
   ]
  },
  {
   "cell_type": "code",
   "execution_count": null,
   "metadata": {
    "id": "v2HZ6xpRph0T"
   },
   "outputs": [],
   "source": [
    "X = torch.FloatTensor([[0, 0], [0, 1], [1, 0], [1, 1]])\n",
    "Y = torch.FloatTensor([[0], [1], [1], [0]])\n",
    "\n",
    "# 입출력값의 차원을 고려하여 아래 빈칸을 적절하게 채워주세요\n",
    "linear1 = torch.nn.Linear(2, 2, bias = True)\n",
    "linear2 = torch.nn.Linear(2,1, bias = True)\n",
    "sigmoid = torch.nn.Sigmoid()\n",
    "\n",
    "# 딥러닝의 구조를 고려하여 multi perceptron 모델을 적절하게 생성하세요. \n",
    "# nn.Sequential 함수를 사용하세요\n",
    "model =  torch.nn.Sequential(linear1,sigmoid,linear2,sigmoid)\n",
    "\n",
    "# 이 예제에서 cross entropy 대신 BCE를 사용하는 이유를 간단하게 설명하세요\n",
    "#binary classification이므로\n",
    "criterion = torch.nn.BCELoss() \n",
    "optimizer = torch.optim.SGD(model.parameters(), lr = 1)\n",
    "\n",
    "for step in range(301):\n",
    "  hypothesis = model(X)\n",
    "  cost = criterion(hypothesis, Y)\n",
    "\n",
    "  optimizer.zero_grad()\n",
    "  cost.backward()\n",
    "  optimizer.step()\n",
    "  if step%50 == 0:\n",
    "    print(step, cost.item())"
   ]
  },
  {
   "cell_type": "markdown",
   "metadata": {
    "id": "jXzoKyGxv-aA"
   },
   "source": [
    "##Q4. Sine Function Approximation using the Legendre *Polynomial*"
   ]
  },
  {
   "cell_type": "markdown",
   "metadata": {
    "id": "6B_VVc1nwJnb"
   },
   "source": [
    "n = 3일때 르장드르 다항식은 다음과 같다. \\\n",
    "$ P_{3} = \\frac{1}{2} (5x^{3} -3x) $ \\\n",
    "이 함수를 사용하여, sine함수를 근사하도록 학습하려고 한다.\n"
   ]
  },
  {
   "cell_type": "markdown",
   "metadata": {
    "id": "pE8kJ2AlwJ0B"
   },
   "source": [
    "1) Forward, Backward 함수를 직접 작성하여보자."
   ]
  },
  {
   "cell_type": "code",
   "execution_count": 4,
   "metadata": {
    "id": "IxykoRYDwIgA"
   },
   "outputs": [],
   "source": [
    "# 이 클래스에서, forward, backward 함수가 하는 기능이 무엇인지 설명해주세요.\n",
    "\n",
    "class Legendre3Function(torch.autograd.Function):\n",
    "    @staticmethod\n",
    "    def forward(ctx, input):\n",
    "        ctx.save_for_backward(input)\n",
    "        return 0.5 * (5 * input ** 3 - 3 * input)\n",
    "\n",
    "    @staticmethod\n",
    "    def backward(ctx, grad_output):\n",
    "        input, = ctx.saved_tensors\n",
    "        return grad_output*0.5*3*(5*input**2-1)\n",
    "        # Hint : Legendre Polynomial의 differential"
   ]
  },
  {
   "cell_type": "markdown",
   "metadata": {
    "id": "GrvjDnuxyGP9"
   },
   "source": [
    "2) 학습을 위한 parameter와 Data를 세팅해보자.\n",
    "   우리가 사용하려는 모델은 다음과 같다.\\\n",
    "   $ y = a + b * P_{3}(c + d * x) $"
   ]
  },
  {
   "cell_type": "code",
   "execution_count": 5,
   "metadata": {
    "id": "QeHfE-6tyFSx"
   },
   "outputs": [],
   "source": [
    "dtype = torch.float\n",
    "device = torch.device(\"cpu\")\n",
    "\n",
    "x = torch.linspace(-math.pi, math.pi, 2000, device=device, dtype=dtype)\n",
    "y = torch.sin(x) # Target function to approximate\n",
    "\n",
    "# Setting requires_grad=True indicates that we want to compute gradients with\n",
    "# respect to these Tensors during the backward pass.\n",
    "a = torch.full((), 0.0, device=device, dtype=dtype, requires_grad=True)\n",
    "b = torch.full((), -1.0, device=device, dtype=dtype, requires_grad=True)\n",
    "c = torch.full((), 0.0, device=device, dtype=dtype, requires_grad=True)\n",
    "d = torch.full((), 0.3, device=device, dtype=dtype, requires_grad=True)"
   ]
  },
  {
   "cell_type": "markdown",
   "metadata": {
    "id": "mKPsQrW5ywjW"
   },
   "source": [
    "3) 1)에서 정의한 forward, backward 함수를 사용하여,\n",
    "   딥러닝 학습 과정을 직접 작성해보자.\\\n",
    "   \\\n",
    "   Learning rate의 경우, 5e-2, 5e-4, 5e-6, 5e-8 중,\n",
    "   가장 적절한 Learning rate를 찾아보자. \\\n",
    "   적절한 learning rate보다 learning rate가 크거나 작을 때,\n",
    "   어떤 현상이 발생하는지 살펴보자."
   ]
  },
  {
   "cell_type": "code",
   "execution_count": 33,
   "metadata": {
    "id": "bivK3PSHyjyL"
   },
   "outputs": [
    {
     "name": "stdout",
     "output_type": "stream",
     "text": [
      "0 5358386937856.0\n"
     ]
    },
    {
     "ename": "RuntimeError",
     "evalue": "element 0 of tensors does not require grad and does not have a grad_fn",
     "output_type": "error",
     "traceback": [
      "\u001b[1;31m---------------------------------------------------------------------------\u001b[0m",
      "\u001b[1;31mRuntimeError\u001b[0m                              Traceback (most recent call last)",
      "\u001b[1;32m<ipython-input-33-9b09695d522f>\u001b[0m in \u001b[0;36m<module>\u001b[1;34m\u001b[0m\n\u001b[0;32m     18\u001b[0m \u001b[1;33m\u001b[0m\u001b[0m\n\u001b[0;32m     19\u001b[0m     \u001b[1;31m# Use autograd to compute the backward pass.\u001b[0m\u001b[1;33m\u001b[0m\u001b[1;33m\u001b[0m\u001b[1;33m\u001b[0m\u001b[0m\n\u001b[1;32m---> 20\u001b[1;33m     \u001b[0mloss\u001b[0m\u001b[1;33m.\u001b[0m\u001b[0mbackward\u001b[0m\u001b[1;33m(\u001b[0m\u001b[1;33m)\u001b[0m\u001b[1;33m\u001b[0m\u001b[1;33m\u001b[0m\u001b[0m\n\u001b[0m\u001b[0;32m     21\u001b[0m \u001b[1;33m\u001b[0m\u001b[0m\n\u001b[0;32m     22\u001b[0m     \u001b[1;31m# Update weights using gradient descent\u001b[0m\u001b[1;33m\u001b[0m\u001b[1;33m\u001b[0m\u001b[1;33m\u001b[0m\u001b[0m\n",
      "\u001b[1;32mc:\\users\\yujinjeong\\anaconda3\\envs\\tensorflow\\lib\\site-packages\\torch\\_tensor.py\u001b[0m in \u001b[0;36mbackward\u001b[1;34m(self, gradient, retain_graph, create_graph, inputs)\u001b[0m\n\u001b[0;32m    305\u001b[0m                 \u001b[0mcreate_graph\u001b[0m\u001b[1;33m=\u001b[0m\u001b[0mcreate_graph\u001b[0m\u001b[1;33m,\u001b[0m\u001b[1;33m\u001b[0m\u001b[1;33m\u001b[0m\u001b[0m\n\u001b[0;32m    306\u001b[0m                 inputs=inputs)\n\u001b[1;32m--> 307\u001b[1;33m         \u001b[0mtorch\u001b[0m\u001b[1;33m.\u001b[0m\u001b[0mautograd\u001b[0m\u001b[1;33m.\u001b[0m\u001b[0mbackward\u001b[0m\u001b[1;33m(\u001b[0m\u001b[0mself\u001b[0m\u001b[1;33m,\u001b[0m \u001b[0mgradient\u001b[0m\u001b[1;33m,\u001b[0m \u001b[0mretain_graph\u001b[0m\u001b[1;33m,\u001b[0m \u001b[0mcreate_graph\u001b[0m\u001b[1;33m,\u001b[0m \u001b[0minputs\u001b[0m\u001b[1;33m=\u001b[0m\u001b[0minputs\u001b[0m\u001b[1;33m)\u001b[0m\u001b[1;33m\u001b[0m\u001b[1;33m\u001b[0m\u001b[0m\n\u001b[0m\u001b[0;32m    308\u001b[0m \u001b[1;33m\u001b[0m\u001b[0m\n\u001b[0;32m    309\u001b[0m     \u001b[1;32mdef\u001b[0m \u001b[0mregister_hook\u001b[0m\u001b[1;33m(\u001b[0m\u001b[0mself\u001b[0m\u001b[1;33m,\u001b[0m \u001b[0mhook\u001b[0m\u001b[1;33m)\u001b[0m\u001b[1;33m:\u001b[0m\u001b[1;33m\u001b[0m\u001b[1;33m\u001b[0m\u001b[0m\n",
      "\u001b[1;32mc:\\users\\yujinjeong\\anaconda3\\envs\\tensorflow\\lib\\site-packages\\torch\\autograd\\__init__.py\u001b[0m in \u001b[0;36mbackward\u001b[1;34m(tensors, grad_tensors, retain_graph, create_graph, grad_variables, inputs)\u001b[0m\n\u001b[0;32m    154\u001b[0m     Variable._execution_engine.run_backward(\n\u001b[0;32m    155\u001b[0m         \u001b[0mtensors\u001b[0m\u001b[1;33m,\u001b[0m \u001b[0mgrad_tensors_\u001b[0m\u001b[1;33m,\u001b[0m \u001b[0mretain_graph\u001b[0m\u001b[1;33m,\u001b[0m \u001b[0mcreate_graph\u001b[0m\u001b[1;33m,\u001b[0m \u001b[0minputs\u001b[0m\u001b[1;33m,\u001b[0m\u001b[1;33m\u001b[0m\u001b[1;33m\u001b[0m\u001b[0m\n\u001b[1;32m--> 156\u001b[1;33m         allow_unreachable=True, accumulate_grad=True)  # allow_unreachable flag\n\u001b[0m\u001b[0;32m    157\u001b[0m \u001b[1;33m\u001b[0m\u001b[0m\n\u001b[0;32m    158\u001b[0m \u001b[1;33m\u001b[0m\u001b[0m\n",
      "\u001b[1;31mRuntimeError\u001b[0m: element 0 of tensors does not require grad and does not have a grad_fn"
     ]
    }
   ],
   "source": [
    "# [5e-2, 5e-4, 5e-6, 5e-8] 중 적절한 learning rate를 찾아주세요.\n",
    "# 적절한 learning rate보다 learning rate가 크거나 작을 때, 어떤 차이가 생기는지\n",
    "# 말씀해주세요.\n",
    "learning_rate = 5e-6\n",
    "\n",
    "# epoch = 2000\n",
    "for t in range(2000):\n",
    "    P3 = Legendre3Function.apply\n",
    "\n",
    "    # Forward pass: predict y.\n",
    "    # P3 using our custom backward function.\n",
    "    y_pred = a+b*P3(c+d*x)\n",
    "\n",
    "    # Compute and print MSE loss\n",
    "    loss = ((y-y_pred)**2).sum().mean()\n",
    "    if t % 100 == 0:\n",
    "        print(t, loss.item())\n",
    "\n",
    "    # Use autograd to compute the backward pass.\n",
    "    loss.backward()\n",
    "\n",
    "    # Update weights using gradient descent\n",
    "    # Hint : use a, b, c, d, learning_rate, a.grad, b.grad, c.grad, d.grad\n",
    "    with torch.no_grad():\n",
    "        a-=a.grad*learning_rate\n",
    "        b-=b.grad*learning_rate\n",
    "        c-=c.grad*learning_rate\n",
    "        d-=d.grad*learning_rate\n",
    "\n",
    "        # Manually zero the gradients after updating weights\n",
    "        a.grad=a.grad.zero_()\n",
    "        b.grad=b.grad.zero_()\n",
    "        c.grad=c.grad.zero_()\n",
    "        d.grad=d.grad.zero_()\n",
    "\n",
    "print(f'Result: y = {a.item()} + {b.item()} * P3({c.item()} + {d.item()} x)')"
   ]
  },
  {
   "cell_type": "markdown",
   "metadata": {
    "id": "DM8VpY2Cz0_d"
   },
   "source": [
    "##Q5. Different Basis Function for approximating sine function"
   ]
  },
  {
   "cell_type": "markdown",
   "metadata": {
    "id": "MC_TprmP1n8J"
   },
   "source": [
    "이번에는 ReLu function을 사용하여 sine함수를 학습해보려 한다. \\\n",
    "ReLu function을 사용했을 때에도, 학습이 잘 되는지 살펴보자."
   ]
  },
  {
   "cell_type": "code",
   "execution_count": 7,
   "metadata": {
    "id": "6LOdtF9T0yqi"
   },
   "outputs": [
    {
     "ename": "AttributeError",
     "evalue": "'NoneType' object has no attribute 'zero_'",
     "output_type": "error",
     "traceback": [
      "\u001b[1;31m---------------------------------------------------------------------------\u001b[0m",
      "\u001b[1;31mAttributeError\u001b[0m                            Traceback (most recent call last)",
      "\u001b[1;32m<ipython-input-7-58e5b81057cf>\u001b[0m in \u001b[0;36m<module>\u001b[1;34m\u001b[0m\n\u001b[0;32m     52\u001b[0m \u001b[1;33m\u001b[0m\u001b[0m\n\u001b[0;32m     53\u001b[0m         \u001b[1;31m# Manually zero the gradients after updating weights\u001b[0m\u001b[1;33m\u001b[0m\u001b[1;33m\u001b[0m\u001b[1;33m\u001b[0m\u001b[0m\n\u001b[1;32m---> 54\u001b[1;33m         \u001b[0ma\u001b[0m\u001b[1;33m.\u001b[0m\u001b[0mgrad\u001b[0m\u001b[1;33m=\u001b[0m\u001b[0ma\u001b[0m\u001b[1;33m.\u001b[0m\u001b[0mgrad\u001b[0m\u001b[1;33m.\u001b[0m\u001b[0mzero_\u001b[0m\u001b[1;33m(\u001b[0m\u001b[1;33m)\u001b[0m\u001b[1;33m\u001b[0m\u001b[1;33m\u001b[0m\u001b[0m\n\u001b[0m\u001b[0;32m     55\u001b[0m         \u001b[0mb\u001b[0m\u001b[1;33m.\u001b[0m\u001b[0mgrad\u001b[0m\u001b[1;33m=\u001b[0m\u001b[0mb\u001b[0m\u001b[1;33m.\u001b[0m\u001b[0mgrad\u001b[0m\u001b[1;33m.\u001b[0m\u001b[0mzero_\u001b[0m\u001b[1;33m(\u001b[0m\u001b[1;33m)\u001b[0m\u001b[1;33m\u001b[0m\u001b[1;33m\u001b[0m\u001b[0m\n\u001b[0;32m     56\u001b[0m         \u001b[0mc\u001b[0m\u001b[1;33m.\u001b[0m\u001b[0mgrad\u001b[0m\u001b[1;33m=\u001b[0m\u001b[0mc\u001b[0m\u001b[1;33m.\u001b[0m\u001b[0mgrad\u001b[0m\u001b[1;33m.\u001b[0m\u001b[0mzero_\u001b[0m\u001b[1;33m(\u001b[0m\u001b[1;33m)\u001b[0m\u001b[1;33m\u001b[0m\u001b[1;33m\u001b[0m\u001b[0m\n",
      "\u001b[1;31mAttributeError\u001b[0m: 'NoneType' object has no attribute 'zero_'"
     ]
    }
   ],
   "source": [
    "class ReLuFunction(torch.autograd.Function):\n",
    "    @staticmethod\n",
    "    def forward(ctx, input):\n",
    "        ctx.save_for_backward(input)\n",
    "        return input.clamp(min=0)\n",
    "\n",
    "    @staticmethod\n",
    "    def backward(ctx, grad_output):\n",
    "        input, = ctx.saved_tensors\n",
    "        grad_input = grad_output.clone()\n",
    "        grad_input[grad_input<0]=0\n",
    "        # Hint : reLu function의 도함수의 형태를 반영하면 됩니다.\n",
    "        return grad_input\n",
    "\n",
    "dtype = torch.float\n",
    "device = torch.device(\"cpu\")\n",
    "\n",
    "x = torch.linspace(-math.pi, math.pi, 2000, device=device, dtype=dtype)\n",
    "y = torch.sin(x)\n",
    "\n",
    "# Our model : y = a + b * ReLu(c + d * x).\n",
    "# Setting requires_grad=True indicates that we want to compute gradients with\n",
    "# respect to these Tensors during the backward pass.\n",
    "a = torch.full((), 0.0, device=device, dtype=dtype, requires_grad=True)\n",
    "b = torch.full((), 1.0, device=device, dtype=dtype, requires_grad=True)\n",
    "c = torch.full((), 0.0, device=device, dtype=dtype, requires_grad=True)\n",
    "d = torch.full((), 1.0, device=device, dtype=dtype, requires_grad=True)\n",
    "\n",
    "learning_rate = 5e-7\n",
    "for t in range(2000):\n",
    "    ReLu = ReLuFunction.apply\n",
    "\n",
    "    # Forward pass: predict y.\n",
    "    # ReLu using our custom backward function.\n",
    "    y_pred =a+b*ReLu(c+d*x)\n",
    "\n",
    "    # Compute and print MSE loss\n",
    "    loss = ((y-y_pred)**2).sum().mean()\n",
    "    if t % 100 == 99:\n",
    "        print(t, loss.item())\n",
    "\n",
    "    # Use autograd to compute the backward pass.\n",
    "    loss.backward()\n",
    "\n",
    "    # Update weights using gradient descent\n",
    "    # Hint : use a, b, c, d, learning_rate, a.grad, b.grad, c.grad, d.grad\n",
    "    with torch.no_grad():\n",
    "        a=a-a.grad*learning_rate\n",
    "        b=b-b.grad*learning_rate\n",
    "        c=c-c.grad*learning_rate\n",
    "        d=d-d.grad*learning_rate\n",
    "\n",
    "        # Manually zero the gradients after updating weights\n",
    "        a.grad=a.grad.zero_()\n",
    "        b.grad=b.grad.zero_()\n",
    "        c.grad=c.grad.zero_()\n",
    "        d.grad=d.grad.zero_()\n",
    "\n",
    "       \n",
    "print(f'Result: y = {a.item()} + {b.item()} * ReLu({c.item()} + {d.item()} x)')"
   ]
  },
  {
   "cell_type": "markdown",
   "metadata": {
    "id": "vJEtSsDc2gC9"
   },
   "source": [
    "## Q6. \n",
    "Q4, Q5에서 학습한 결과를 바탕으로, 어떤 function을 사용하는 것이 학습에 더 적절했었는지 코멘트해주세요.  \n",
    "\n",
    "Relu는 적절하지 않습니다. "
   ]
  },
  {
   "cell_type": "markdown",
   "metadata": {
    "id": "s1bkyVzf3xQI"
   },
   "source": [
    "## Q7. Deep Learning Example"
   ]
  },
  {
   "cell_type": "markdown",
   "metadata": {
    "id": "aaLdpBPX4h0e"
   },
   "source": [
    "주어진 데이터를 로딩하고, 아래 코드의 빈칸을 채워\n",
    "딥러닝 학습을 하는 코드를 완성하여보자."
   ]
  },
  {
   "cell_type": "code",
   "execution_count": 9,
   "metadata": {
    "colab": {
     "base_uri": "https://localhost:8080/",
     "height": 184,
     "resources": {
      "http://localhost:8080/nbextensions/google.colab/files.js": {
       "data": "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",
       "headers": [
        [
         "content-type",
         "application/javascript"
        ]
       ],
       "ok": true,
       "status": 200,
       "status_text": ""
      }
     }
    },
    "id": "B1so2sfQbpd5",
    "outputId": "ba125774-98ea-43b7-8a42-854d6fbb37d8"
   },
   "outputs": [
    {
     "ename": "ModuleNotFoundError",
     "evalue": "No module named 'google.colab'",
     "output_type": "error",
     "traceback": [
      "\u001b[1;31m---------------------------------------------------------------------------\u001b[0m",
      "\u001b[1;31mModuleNotFoundError\u001b[0m                       Traceback (most recent call last)",
      "\u001b[1;32m<ipython-input-9-2c081a89f9b5>\u001b[0m in \u001b[0;36m<module>\u001b[1;34m\u001b[0m\n\u001b[0;32m      2\u001b[0m \u001b[1;31m# colab 사용하시면, 주석 지우고 사용해주세요\u001b[0m\u001b[1;33m\u001b[0m\u001b[1;33m\u001b[0m\u001b[1;33m\u001b[0m\u001b[0m\n\u001b[0;32m      3\u001b[0m \u001b[1;33m\u001b[0m\u001b[0m\n\u001b[1;32m----> 4\u001b[1;33m \u001b[1;32mfrom\u001b[0m \u001b[0mgoogle\u001b[0m\u001b[1;33m.\u001b[0m\u001b[0mcolab\u001b[0m \u001b[1;32mimport\u001b[0m \u001b[0mfiles\u001b[0m\u001b[1;33m\u001b[0m\u001b[1;33m\u001b[0m\u001b[0m\n\u001b[0m\u001b[0;32m      5\u001b[0m \u001b[0muploaded\u001b[0m \u001b[1;33m=\u001b[0m \u001b[0mfiles\u001b[0m\u001b[1;33m.\u001b[0m\u001b[0mupload\u001b[0m\u001b[1;33m(\u001b[0m\u001b[1;33m)\u001b[0m\u001b[1;33m\u001b[0m\u001b[1;33m\u001b[0m\u001b[0m\n",
      "\u001b[1;31mModuleNotFoundError\u001b[0m: No module named 'google.colab'"
     ]
    }
   ],
   "source": [
    "# 업로드 시간이 7분 30초 가량 걸리기에, 그동안 밑에 코드 작성 먼저 해주셔도 됩니다. (colab 사용시)\n",
    "# colab 사용하시면, 주석 지우고 사용해주세요\n",
    "\n",
    "#from google.colab import files\n",
    "#uploaded = files.upload()"
   ]
  },
  {
   "cell_type": "code",
   "execution_count": 12,
   "metadata": {
    "id": "pp21KgUE4x8h"
   },
   "outputs": [],
   "source": [
    "# Data Loading using pd.read_csv\n",
    "\n",
    "train_X = pd.read_csv('C:/Users/yujinjeong/Desktop/data_question7/trainX.csv')\n",
    "train_Y = pd.read_csv('C:/Users/yujinjeong/Desktop/data_question7/trainY.csv')\n",
    "\n",
    "test_X = pd.read_csv('C:/Users/yujinjeong/Desktop/data_question7/testX.csv')\n",
    "test_Y = pd.read_csv('C:/Users/yujinjeong/Desktop/data_question7/testY.csv')"
   ]
  },
  {
   "cell_type": "code",
   "execution_count": 21,
   "metadata": {
    "id": "l0-2JLqg441e"
   },
   "outputs": [],
   "source": [
    "# Data Setting\n",
    "train_X = np.array(train_X)\n",
    "train_Y = np.array(train_Y)\n",
    "\n",
    "test_X = np.array(test_X)\n",
    "test_Y = np.array(test_Y)\n",
    "\n",
    "input_dim = len(train_X[0])\n",
    "\n",
    "# Data type casting to torchTensor\n",
    "train_x = torch.FloatTensor(train_X)\n",
    "train_y = torch.FloatTensor(train_Y)\n",
    "\n",
    "# Set batch size\n",
    "batch_size = 4096\n",
    "dataset = TensorDataset(train_x, train_y)\n",
    "\n",
    "# DataLoader setting\n",
    "# 셔플이 있고, batch size에 맞게 dataloader를 세팅해주세요,\n",
    "dataloader = DataLoader(dataset, shuffle=True, batch_size=batch_size)"
   ]
  },
  {
   "cell_type": "code",
   "execution_count": 22,
   "metadata": {
    "id": "LV6Sgdv15nkM"
   },
   "outputs": [],
   "source": [
    "# Model Setting\n",
    "model = torch.nn.Sequential(\n",
    "    torch.nn.Linear(input_dim, int(input_dim/6)),\n",
    "    # 각 Layer의 activation function을 설정해주세요.\n",
    "    torch.nn.ReLU(),\n",
    "    # Hint : hidden layer activation function ReLu\n",
    "    torch.nn.Linear(int(input_dim/6), int(input_dim/5)),\n",
    "    torch.nn.ReLU(),\n",
    "    # Hint : hidden layer activation function ReLu\n",
    "    torch.nn.Linear(int(input_dim/5), 1),\n",
    "    torch.nn.Sigmoid(),\n",
    "    # Hint : Output layer activation function for binary classification\n",
    "    )"
   ]
  },
  {
   "cell_type": "code",
   "execution_count": 23,
   "metadata": {
    "colab": {
     "base_uri": "https://localhost:8080/"
    },
    "id": "7LLXeKJC6rIi",
    "outputId": "dd4ddeb2-3181-46d8-d467-37e503413449"
   },
   "outputs": [
    {
     "name": "stdout",
     "output_type": "stream",
     "text": [
      "The number of parameters: 1977 elements\n"
     ]
    }
   ],
   "source": [
    "params = list(model.parameters())\n",
    "print(\"The number of parameters:\", sum([p.numel() for p in model.parameters() if p.requires_grad]), \"elements\")\n",
    "x = torch.from_numpy(train_X.astype(np.float32))\n",
    "y = torch.from_numpy(train_Y.astype(np.float32)).view(-1, 1)\n",
    "\n",
    "# loss function 부분을 채워주세요.\n",
    "# BCE loss를 사용합니다.\n",
    "loss_fn = torch.nn.BCELoss()"
   ]
  },
  {
   "cell_type": "code",
   "execution_count": 26,
   "metadata": {
    "id": "xyGnAGQJ6Ihy"
   },
   "outputs": [
    {
     "name": "stdout",
     "output_type": "stream",
     "text": [
      "iter 0/200 loss: 0.6085\n",
      "iter 10/200 loss: 0.5380\n",
      "iter 20/200 loss: 0.5214\n",
      "iter 30/200 loss: 0.4973\n",
      "iter 40/200 loss: 0.4991\n",
      "iter 50/200 loss: 0.4913\n",
      "iter 60/200 loss: 0.4961\n",
      "iter 70/200 loss: 0.4935\n",
      "iter 80/200 loss: 0.4883\n",
      "iter 90/200 loss: 0.4887\n",
      "iter 100/200 loss: 0.4890\n",
      "iter 110/200 loss: 0.4865\n",
      "iter 120/200 loss: 0.4869\n",
      "iter 130/200 loss: 0.4964\n",
      "iter 140/200 loss: 0.4889\n",
      "iter 150/200 loss: 0.4861\n",
      "iter 160/200 loss: 0.4952\n",
      "iter 170/200 loss: 0.4841\n",
      "iter 180/200 loss: 0.4928\n",
      "iter 190/200 loss: 0.4851\n",
      "iter 200/200 loss: 0.4856\n"
     ]
    }
   ],
   "source": [
    "learning_rate = 1e-3\n",
    "iter = 200\n",
    "loss_list = []\n",
    "# Adam optimizer를 설정해주세요. learning rate, 그리고 weight_decay는 5e-2로 설정해주세요.\n",
    "optimizer = torch.optim.Adam(model.parameters(), lr=5e-2,weight_decay=5e-2)\n",
    "\n",
    "prev_loss = 1e+30\n",
    "\n",
    "for t in range(iter+1):\n",
    "    for batch, sample in enumerate(dataloader):\n",
    "      trainx, trainy = sample\n",
    "      y_pred = model(trainx)\n",
    "\n",
    "      loss = loss_fn(y_pred,trainy)\n",
    "\n",
    "      # gradient 계산 및 gradient descent 계산을 통한 optimization 부분\n",
    "      # 코드를 채워주세요.\n",
    "      optimizer.zero_grad()\n",
    "      loss.backward()\n",
    "      optimizer.step()\n",
    "    \n",
    "      loss_list.append(loss.item())\n",
    "\n",
    "    cur_loss = np.mean(loss_list[max(0, len(loss_list)-batch-1):len(loss_list)-1])\n",
    "    \n",
    "    if t % 10 == 0:\n",
    "      print('iter {}/{} loss: {:.4f}'.format(\n",
    "             t, iter, cur_loss))"
   ]
  },
  {
   "cell_type": "code",
   "execution_count": 32,
   "metadata": {
    "id": "uYrvNZ-68Y_L"
   },
   "outputs": [
    {
     "name": "stdout",
     "output_type": "stream",
     "text": [
      "Weighted F1: 0.7582144104815691\n"
     ]
    },
    {
     "data": {
      "text/plain": [
       "[<matplotlib.lines.Line2D at 0x21f667e9308>]"
      ]
     },
     "execution_count": 32,
     "metadata": {},
     "output_type": "execute_result"
    },
    {
     "data": {
      "image/png": "[encoded data removed]",
      "text/plain": [
       "<Figure size 432x288 with 1 Axes>"
      ]
     },
     "metadata": {
      "needs_background": "light"
     },
     "output_type": "display_data"
    }
   ],
   "source": [
    "y_predict = model(torch.from_numpy(test_X.astype(np.float32)))\n",
    "y_pred = y_predict.detach().numpy()\n",
    "\n",
    "# test set의 prediction값을 계산하는 식을 작성하고, weighted f1 score를 계산해주세요.\n",
    "y_pred = [1.0 if x>0.5 else 0.0 for x in y_pred]\n",
    "\n",
    "result = f1_score(test_Y,y_pred, average=\"weighted\")\n",
    "\n",
    "# 결과물 출력\n",
    "print(\"Weighted F1:\", result)\n",
    "step = np.linspace(0, len(loss_list), len(loss_list))\n",
    "plt.plot(step/int(batch_size + 1), np.array(loss_list))"
   ]
  }
 ],
 "metadata": {
  "colab": {
   "collapsed_sections": [
    "jXzoKyGxv-aA",
    "DM8VpY2Cz0_d"
   ],
   "name": "pytorch_lab01.ipynb",
   "provenance": []
  },
  "kernelspec": {
   "display_name": "Python 3",
   "language": "python",
   "name": "python3"
  },
  "language_info": {
   "codemirror_mode": {
    "name": "ipython",
    "version": 3
   },
   "file_extension": ".py",
   "mimetype": "text/x-python",
   "name": "python",
   "nbconvert_exporter": "python",
   "pygments_lexer": "ipython3",
   "version": "3.7.10"
  }
 },
 "nbformat": 4,
 "nbformat_minor": 1
}
